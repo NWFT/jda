{
 "cells": [
  {
   "cell_type": "code",
   "execution_count": 1,
   "id": "82c16f08",
   "metadata": {},
   "outputs": [
    {
     "data": {
      "text/plain": [
       "('NPower', 'JDA', 'Tuesday', 30, 31, 2021)"
      ]
     },
     "execution_count": 1,
     "metadata": {},
     "output_type": "execute_result"
    }
   ],
   "source": [
    "#Q1 Create myTuple tuple with the follwoing values (\"NPower\",\"JDA\",\"Tuesday\",30,31,2021)\n",
    "\n",
    "myTuple = (\"NPower\",\"JDA\",\"Tuesday\",30,31,2021)\n",
    "myTuple"
   ]
  },
  {
   "cell_type": "code",
   "execution_count": 2,
   "id": "b24eb2c4",
   "metadata": {},
   "outputs": [
    {
     "data": {
      "text/plain": [
       "tuple"
      ]
     },
     "execution_count": 2,
     "metadata": {},
     "output_type": "execute_result"
    }
   ],
   "source": [
    "#Q2 What is the type of myTuple\n",
    "type(myTuple)"
   ]
  },
  {
   "cell_type": "code",
   "execution_count": 3,
   "id": "2e868b2c",
   "metadata": {},
   "outputs": [
    {
     "data": {
      "text/plain": [
       "6"
      ]
     },
     "execution_count": 3,
     "metadata": {},
     "output_type": "execute_result"
    }
   ],
   "source": [
    "#Q3 What is the length of myTuple\n",
    "len(myTuple)"
   ]
  },
  {
   "cell_type": "code",
   "execution_count": 4,
   "id": "5b39b95c",
   "metadata": {},
   "outputs": [
    {
     "name": "stdout",
     "output_type": "stream",
     "text": [
      "('NPower', 'JDA', 'Tuesday', 30, 31, 2021)\n"
     ]
    }
   ],
   "source": [
    "#Q4 print the values in each index #Use regular indexing\n",
    "print(myTuple[0:6])"
   ]
  },
  {
   "cell_type": "code",
   "execution_count": 5,
   "id": "f8b21688",
   "metadata": {},
   "outputs": [
    {
     "name": "stdout",
     "output_type": "stream",
     "text": [
      "('NPower', 'JDA', 'Tuesday', 30, 31, 2021)\n"
     ]
    }
   ],
   "source": [
    "#Q5 print the values in each index #Use negative indexing \n",
    "print(myTuple[-7::])"
   ]
  },
  {
   "cell_type": "code",
   "execution_count": 6,
   "id": "fd22def5",
   "metadata": {},
   "outputs": [
    {
     "data": {
      "text/plain": [
       "[str, str, str, int, int, int]"
      ]
     },
     "execution_count": 6,
     "metadata": {},
     "output_type": "execute_result"
    }
   ],
   "source": [
    "#Q6 what is the type of each value\n",
    "list(map(type,myTuple))"
   ]
  },
  {
   "cell_type": "code",
   "execution_count": 7,
   "id": "0fa3dbbe",
   "metadata": {},
   "outputs": [
    {
     "name": "stdout",
     "output_type": "stream",
     "text": [
      "NPower JDA Tuesday 30 31 2021\n"
     ]
    }
   ],
   "source": [
    "#Q7 unpack myTuple in the follwoeing variables name,program,dayName,month,day,year\n",
    "# print the variables \n",
    "(name,program,dayName,month,day,year)=myTuple\n",
    "print(name,program,dayName,month,day,year)"
   ]
  },
  {
   "cell_type": "code",
   "execution_count": 8,
   "id": "71eb19b1",
   "metadata": {},
   "outputs": [],
   "source": [
    "#Q8 unpack myTuple2 in the follwoeing variables name,program,dayName.\n",
    "# What will happen to variables (name,program,dayName) and (month,day,year)\n"
   ]
  },
  {
   "cell_type": "code",
   "execution_count": 9,
   "id": "3174610e",
   "metadata": {},
   "outputs": [
    {
     "name": "stdout",
     "output_type": "stream",
     "text": [
      "Type a <class 'str'>\n",
      "Jerry 2 89\n",
      "<class 'tuple'>\n",
      "('Ulan',)\n",
      "Leul\n"
     ]
    },
    {
     "data": {
      "text/plain": [
       "str"
      ]
     },
     "execution_count": 9,
     "metadata": {},
     "output_type": "execute_result"
    }
   ],
   "source": [
    "# Note the following\n",
    "Tuple1=(\"Jerry\",2,89) #This is a tuple with 3 elements\n",
    "Tuple2=(\"Ulan\",)#This is a tuple with 1 element\n",
    "test=\"Leul\" #This is a VARIABLE with string value\n",
    "a,b,c=Tuple1\n",
    "print(\"Type a\",type(a))\n",
    "print(a,b,c)\n",
    "d=Tuple2\n",
    "print(type(d))\n",
    "print(d)\n",
    "e=test\n",
    "print(e)\n",
    "d = (\"Ulan\")\n",
    "type(d)"
   ]
  },
  {
   "cell_type": "code",
   "execution_count": 10,
   "id": "ffd6623a",
   "metadata": {},
   "outputs": [
    {
     "name": "stdout",
     "output_type": "stream",
     "text": [
      "(1, 2, 3)\n",
      "(4, 5, 6)\n"
     ]
    },
    {
     "ename": "TypeError",
     "evalue": "'tuple' object does not support item assignment",
     "output_type": "error",
     "traceback": [
      "\u001b[0;31m---------------------------------------------------------------------------\u001b[0m",
      "\u001b[0;31mTypeError\u001b[0m                                 Traceback (most recent call last)",
      "\u001b[0;32m/var/folders/rz/6rwl1std7dz1npfq_pm66bfr0000gn/T/ipykernel_71070/1583320172.py\u001b[0m in \u001b[0;36m<module>\u001b[0;34m\u001b[0m\n\u001b[1;32m      7\u001b[0m \u001b[0mprint\u001b[0m\u001b[0;34m(\u001b[0m\u001b[0mtestTuple\u001b[0m\u001b[0;34m)\u001b[0m\u001b[0;34m\u001b[0m\u001b[0;34m\u001b[0m\u001b[0m\n\u001b[1;32m      8\u001b[0m \u001b[0;31m#But we can't change or edit a value for the existing tuple\u001b[0m\u001b[0;34m\u001b[0m\u001b[0;34m\u001b[0m\u001b[0m\n\u001b[0;32m----> 9\u001b[0;31m \u001b[0mtestTuple\u001b[0m\u001b[0;34m[\u001b[0m\u001b[0;36m0\u001b[0m\u001b[0;34m]\u001b[0m\u001b[0;34m=\u001b[0m\u001b[0;36m6\u001b[0m \u001b[0;31m#ERROR 'tuple' object does not support item assignment\u001b[0m\u001b[0;34m\u001b[0m\u001b[0;34m\u001b[0m\u001b[0m\n\u001b[0m",
      "\u001b[0;31mTypeError\u001b[0m: 'tuple' object does not support item assignment"
     ]
    }
   ],
   "source": [
    "#Tuples are immutable\n",
    "#we can always make the testTuple variable reference a new tuple in the memory\n",
    "#and hold a different information\n",
    "testTuple=(1,2,3)\n",
    "print(testTuple)\n",
    "testTuple=(4,5,6)\n",
    "print(testTuple)\n",
    "#But we can't change or edit a value for the existing tuple\n",
    "testTuple[0]=6 #ERROR 'tuple' object does not support item assignment"
   ]
  },
  {
   "cell_type": "code",
   "execution_count": null,
   "id": "a82b3b42",
   "metadata": {},
   "outputs": [],
   "source": [
    "#Q9 Reverse myTuple, output should looks like (2021,3,30,\"Tuesday\",\"JDA\",\"NPower\")\n",
    "myTuple[::-1]"
   ]
  },
  {
   "cell_type": "code",
   "execution_count": null,
   "id": "957a350f",
   "metadata": {},
   "outputs": [],
   "source": [
    "#Q10 Create nestedTuple=((\"Coursera\",\"course\",6),(\"week\",(2,\"Lists\",\"Tuple\")))\n",
    "A=(\"Coursera\",\"course\",6)\n",
    "B=(\"week\")\n",
    "C=(2,\"Lists\",\"Tuple\")\n",
    "\n",
    "nestedTuple = (A, (B, C))\n",
    "nestedTuple"
   ]
  },
  {
   "cell_type": "code",
   "execution_count": null,
   "id": "5b6c4033",
   "metadata": {},
   "outputs": [],
   "source": [
    "#Q11 What is the output of nestedTuple[1:2]\n",
    "nestedTuple[1:2]"
   ]
  },
  {
   "cell_type": "code",
   "execution_count": null,
   "id": "a1aabf6d",
   "metadata": {},
   "outputs": [],
   "source": [
    "#Q12 print each element in the nestedTuple\n",
    "print(nestedTuple[0])\n",
    "print(nestedTuple[1])"
   ]
  },
  {
   "cell_type": "code",
   "execution_count": null,
   "id": "bdd00207",
   "metadata": {},
   "outputs": [],
   "source": [
    "#Q13 Access (2,\"Lists\",\"Tuple\") from nestedTuple\n",
    "nestedTuple[1][1]"
   ]
  },
  {
   "cell_type": "code",
   "execution_count": null,
   "id": "4691d781",
   "metadata": {},
   "outputs": [],
   "source": [
    "#Q14 Access the value \"Lists\" from nestedTuple\n",
    "nestedTuple[1][1][1]"
   ]
  },
  {
   "cell_type": "code",
   "execution_count": null,
   "id": "82a4cf53",
   "metadata": {},
   "outputs": [],
   "source": [
    "#Q15 Access the value \"Tuple\" from nestedTuple\n",
    "nestedTuple[1][1][2]"
   ]
  },
  {
   "cell_type": "code",
   "execution_count": null,
   "id": "c9dc29a8",
   "metadata": {},
   "outputs": [],
   "source": [
    "#Q16 Access the value \"course\" from nestedTuple\n",
    "nestedTuple[0][1]"
   ]
  },
  {
   "cell_type": "code",
   "execution_count": null,
   "id": "aa243bb0",
   "metadata": {},
   "outputs": [],
   "source": [
    "#Q17 Concatenate myTuple with nestedTuple\n",
    "myTuple=myTuple+nestedTuple\n",
    "myTuple"
   ]
  },
  {
   "cell_type": "code",
   "execution_count": null,
   "id": "ebe46afe",
   "metadata": {},
   "outputs": [],
   "source": [
    "#Q18 add your name to the tuple\n",
    "name=('Kowcika',)\n",
    "newTuple = myTuple + name\n",
    "newTuple"
   ]
  },
  {
   "cell_type": "code",
   "execution_count": null,
   "id": "fd86bd29",
   "metadata": {},
   "outputs": [],
   "source": [
    "#Q19 check whether Coursera exists within myTuple\n",
    "# NOTE \"in\" doesn't work properly with nested tuples\n",
    "def is_item_in_nested_tuple(item, nested_tuple):\n",
    "    for element in nested_tuple:\n",
    "        if isinstance(element, tuple):\n",
    "            if is_item_in_nested_tuple(item, element):\n",
    "                return True\n",
    "        else:\n",
    "            if element == item:\n",
    "                return True\n",
    "    return False\n",
    "\n",
    "is_item_in_nested_tuple(\"Coursera\",myTuple)"
   ]
  },
  {
   "cell_type": "code",
   "execution_count": null,
   "id": "52395fc9",
   "metadata": {},
   "outputs": [],
   "source": [
    "#Q20 check whether 55 exists within testTuple\n",
    "testTuple=(1,2,33,55,6,55)\n",
    "number=55\n",
    "number in testTuple"
   ]
  },
  {
   "cell_type": "code",
   "execution_count": null,
   "id": "4e9824c8",
   "metadata": {},
   "outputs": [],
   "source": [
    "#Q21 Find the index of JDA in newTuple\n",
    "# Find the index of 'Coursera' in newTuple\n",
    "# NOTE index doesn't work properly with nested tuples # Wrong output\n",
    "newTuple.index('JDA')\n",
    "newTuple.index('Coursera')"
   ]
  },
  {
   "cell_type": "code",
   "execution_count": null,
   "id": "21ca4d0b",
   "metadata": {},
   "outputs": [],
   "source": [
    "#Q22 print index 8 from newTuple\n",
    "newTuple[8]"
   ]
  },
  {
   "cell_type": "code",
   "execution_count": null,
   "id": "3614edd7",
   "metadata": {},
   "outputs": [],
   "source": [
    "#Q23 Get the 4th element from the begining of myTuple and 4th element from last \n",
    "print(newTuple[3])\n",
    "print(newTuple[-4])"
   ]
  },
  {
   "cell_type": "code",
   "execution_count": null,
   "id": "cae30f03",
   "metadata": {},
   "outputs": [],
   "source": [
    "#Q24 Find how many times 55 appeared in testTuple [Hint: Use method count()]\n",
    "testTuple.count(55)"
   ]
  },
  {
   "cell_type": "code",
   "execution_count": null,
   "id": "d3968e28",
   "metadata": {},
   "outputs": [],
   "source": []
  }
 ],
 "metadata": {
  "kernelspec": {
   "display_name": "Python 3 (ipykernel)",
   "language": "python",
   "name": "python3"
  },
  "language_info": {
   "codemirror_mode": {
    "name": "ipython",
    "version": 3
   },
   "file_extension": ".py",
   "mimetype": "text/x-python",
   "name": "python",
   "nbconvert_exporter": "python",
   "pygments_lexer": "ipython3",
   "version": "3.9.13"
  }
 },
 "nbformat": 4,
 "nbformat_minor": 5
}
