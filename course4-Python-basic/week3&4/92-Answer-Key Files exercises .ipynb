{
 "cells": [
  {
   "cell_type": "markdown",
   "metadata": {},
   "source": [
    "# Python Files exercises "
   ]
  },
  {
   "cell_type": "code",
   "execution_count": 31,
   "metadata": {},
   "outputs": [],
   "source": [
    "#Q1 Create a text file called mytxt.txt\n",
    "# Save the following content in the text file:\n",
    "# \"In this section, we will use Python's built-in open function to create a file,\n",
    "# and obtain the data from a \"txt\" file.\n",
    "# We will use Python's open function to get a file object. \n",
    "# We can apply a method to that object to read data from the file.  \n",
    "# The first argument is the file path, the second parameter is the mode.\"\n",
    "txt1 = \"\"\"\n",
    "In this section, we will use Python's built-in open function to create a file,\n",
    "and obtain the data from a \"txt\" file.\n",
    "We will use Python's open function to get a file object. \n",
    "We can apply a method to that object to read data from the file.  \n",
    "The first argument is the file path, the second parameter is the mode.\"\n",
    "\"\"\"\n",
    "\n",
    "with open(\"mytxt.txt\",\"w\") as f:\n",
    "    f.write(txt1)"
   ]
  },
  {
   "cell_type": "code",
   "execution_count": 3,
   "metadata": {},
   "outputs": [
    {
     "name": "stdout",
     "output_type": "stream",
     "text": [
      "\n",
      "In this section, we will use Python's built-in open function to create a file,\n",
      "and obtain the data from a \"txt\" file.\n",
      "We will use Python's open function to get a file object. \n",
      "We can apply a method to that object to read data from the file.  \n",
      "The first argument is the file path, the second parameter is the mode.\"\n",
      "\n"
     ]
    }
   ],
   "source": [
    "#Q1 Write a Python program to read the entire mytxt file\n",
    "with open(\"mytxt.txt\",\"r\") as f:\n",
    "    print(f.read())"
   ]
  },
  {
   "cell_type": "code",
   "execution_count": 4,
   "metadata": {},
   "outputs": [
    {
     "name": "stdout",
     "output_type": "stream",
     "text": [
      "[\"We will use Python's open function to get a file object. \\n\", 'We can apply a method to that object to read data from the file.  \\n', 'The first argument is the file path, the second parameter is the mode.\"\\n']\n"
     ]
    }
   ],
   "source": [
    "#Q2 Write a Python program to read last 3 lines of mytxt file\n",
    "with open(\"mytxt.txt\") as mytxt:\n",
    "    txt=mytxt.readlines()\n",
    "    print(txt[-3:])"
   ]
  },
  {
   "cell_type": "code",
   "execution_count": 5,
   "metadata": {},
   "outputs": [
    {
     "name": "stdout",
     "output_type": "stream",
     "text": [
      "['We can apply a method to that object to read data from the file.  \\n', 'The first argument is the file path, the second parameter is the mode.\"\\n']\n"
     ]
    }
   ],
   "source": [
    "#Q3 Write a Python program to read last n lines of mytxt file \n",
    "#[Hint: write a function]\n",
    "def read_last_n_lines(n):\n",
    "    with open(\"mytxt.txt\") as myfile:\n",
    "        lines = myfile.readlines()\n",
    "        return lines[-n:]\n",
    "        \n",
    "print(read_last_n_lines(2))"
   ]
  },
  {
   "cell_type": "code",
   "execution_count": 7,
   "metadata": {},
   "outputs": [
    {
     "name": "stdout",
     "output_type": "stream",
     "text": [
      "The number of lines in mytxt file is: 6\n"
     ]
    }
   ],
   "source": [
    "#Q4 count the number of lines in mytxt file \n",
    "with open(\"mytxt.txt\") as myfile:\n",
    "    lines = myfile.readlines()\n",
    "    print(f\"The number of lines in mytxt file is: {len(lines)}\")\n"
   ]
  },
  {
   "cell_type": "code",
   "execution_count": 8,
   "metadata": {},
   "outputs": [],
   "source": [
    "#Q5 Write a Python program to generate 26 text files named A.txt, B.txt,...Z.txt\n",
    "import string,os\n",
    "for letter in string.ascii_uppercase:\n",
    "    open(letter + \".txt\", \"x\").close()"
   ]
  },
  {
   "cell_type": "code",
   "execution_count": 9,
   "metadata": {},
   "outputs": [],
   "source": [
    "for letter in string.ascii_uppercase:\n",
    "    os.remove(letter + \".txt\")"
   ]
  },
  {
   "cell_type": "code",
   "execution_count": 32,
   "metadata": {},
   "outputs": [
    {
     "name": "stdout",
     "output_type": "stream",
     "text": [
      "\n",
      "In this section, we will use Python's built-in open function to create a file,\n",
      "and obtain the data from a \"txt\" file.\n",
      "We will use Python's open function to get a file object. \n",
      "We can apply a method to that object to read data from the file.  \n",
      "The first argument is the file path, the second parameter is the mode.\"\n",
      "End of file\n",
      "\n"
     ]
    }
   ],
   "source": [
    "#Q6 Write a Python program to append \"End of file\" to mytxt file and \n",
    "# display the text \n",
    "with open(\"mytxt.txt\",\"a\") as myfile:\n",
    "    myfile.write(\"End of file\\n\")\n",
    "with open(\"mytxt.txt\") as myfile:\n",
    "    a=myfile.read()\n",
    "    print(a)"
   ]
  },
  {
   "cell_type": "code",
   "execution_count": 41,
   "metadata": {},
   "outputs": [
    {
     "name": "stdout",
     "output_type": "stream",
     "text": [
      "\n",
      "In this section, we will use Python's built-in open function to create a file,\n",
      "and obtain the data from a \"txt\" file.\n",
      "We will use Python's open function to get a file object. \n",
      "We can apply a method to that object to read data from the file.  \n",
      "The first argument is the file path, the second parameter is the mode.\"\n",
      "\n"
     ]
    }
   ],
   "source": [
    "#Q7 Write a Python program to remove newline characters from mytxt file\n",
    "with open(\"mytxt.txt\",\"r+\") as f:\n",
    "    data = f.readlines()\n",
    "    f.seek(0)\n",
    "    for line in data[:-1]:\n",
    "        f.write(line)\n",
    "    f.truncate()\n",
    "\n",
    "with open(\"mytxt.txt\",\"r\") as f:\n",
    "    print(f.read())"
   ]
  },
  {
   "cell_type": "code",
   "execution_count": 42,
   "metadata": {},
   "outputs": [
    {
     "data": {
      "text/plain": [
       "['parameter']"
      ]
     },
     "execution_count": 42,
     "metadata": {},
     "output_type": "execute_result"
    }
   ],
   "source": [
    "# Q8 Write a python program to find the longest word in mytxt file\n",
    "def longest_word(file):\n",
    "    num = 0\n",
    "    with open(file) as f:\n",
    "        words = f.read().split()\n",
    "    return max(words, key=len)\n",
    "\n",
    "LongestWord(\"mytxt.txt\")"
   ]
  },
  {
   "cell_type": "code",
   "execution_count": 43,
   "metadata": {},
   "outputs": [
    {
     "name": "stdout",
     "output_type": "stream",
     "text": [
      "2\n"
     ]
    }
   ],
   "source": [
    "#Q9  Write a Python program to count the frequency \"We\" in mytxt file\n",
    "with open(\"mytxt.txt\") as myfile:\n",
    "    words=myfile.read().split()\n",
    "    a=words.count('We') #.just gives output for \"We\".doesn't include \"we\".\n",
    "    print(a)"
   ]
  },
  {
   "cell_type": "code",
   "execution_count": 72,
   "metadata": {},
   "outputs": [
    {
     "name": "stdout",
     "output_type": "stream",
     "text": [
      "Please input your username: Lisa\n",
      "Please input your password: pass\n",
      "Welcome Lisa.\n",
      "Please input your newName: xxx\n",
      "Please input your newPassword: xxx\n",
      "xxx,your name been recorded\n",
      "Please input your username: xxx\n",
      "Please input your password: xxx\n",
      "Welcome xxx.\n"
     ]
    }
   ],
   "source": [
    "#Q10 Write a Python program to build a sign_Up and login forms for users.\n",
    "#Your program should validate/authenticate entered credentials for existing users \n",
    "#or create new accounts for new users\n",
    "#1 Create \"Credentials.txt\" file\n",
    "#2 Add the following information into your Credentials.txt file <Name, Password>\n",
    "    # Sarah,12ssr\n",
    "    # Lisa,pass\n",
    "    # Donna,D00N\n",
    "#3 Create login function that takes two inputs (name,password)\n",
    "    #3.1 Ask the user to enter their username and password\n",
    "    #3.2 search if the names exist in the Credentials.txt file\n",
    "        #3.2.1 if the name was found, check \n",
    "            #if the password is correct\n",
    "        #3.2.2 return \"Welcome <persons name> \n",
    "            #if the name and password were correct\"\n",
    "        #3.2.3 else return \"wrong name or password\"\n",
    "    #3.2 if the name doesn't exist return \"your name doesn't exist,\n",
    "        #please create a new account\"\n",
    "#4 Create sign_Up function that takes two inputs(newName,newPassword)\n",
    "    #Ask user to enter their name and password\n",
    "    #append the new information into the Credentials.txt file, \n",
    "        #follow the same format \"name,password\"\n",
    "#5 Test your program by logging in using the new account\n",
    "txt=\"\"\"Name,Password\n",
    "Sarah,12ssr\n",
    "Lisa,pass\n",
    "Donna,D00N\"\"\"\n",
    "\n",
    "with open(\"Credentials.txt\",\"w\") as f:\n",
    "    f.write(txt)\n",
    "\n",
    "# define name_pass to cache name and password from txt\n",
    "name_pass = {}\n",
    "# read txt and get all users and passwords\n",
    "def read_txt():\n",
    "    global name_pass\n",
    "    with open(\"Credentials.txt\",\"r\") as f:\n",
    "        # ignore the 1st line, and write to name_pass\n",
    "        f.readline()\n",
    "        for line in f.readlines():\n",
    "            line_lst = line.split(\",\")\n",
    "            name_pass[line_lst[0]] = line_lst[1].rstrip()\n",
    "\n",
    "# defien a function to save a record to txt\n",
    "def write_txt(name,pwd):\n",
    "    with open(\"Credentials.txt\",\"a\") as f:\n",
    "        f.write(f\"\\n{name},{pwd}\")\n",
    "        \n",
    "# login function\n",
    "def login():\n",
    "    read_txt()\n",
    "    #3.1 Ask the user to enter their username and password\n",
    "    user = input(\"Please input your username: \")\n",
    "    pwd = input(\"Please input your password: \")\n",
    "    #3.2.1 if the name was found, check\n",
    "    if user in name_pass.keys():\n",
    "        #if the password is correct\n",
    "        if pwd == name_pass[user]:\n",
    "            #3.2.2 return \"Welcome <persons name> \n",
    "            return f\"Welcome {user}.\"\n",
    "        #3.2.3 else return \"wrong name or password\"\n",
    "        else:\n",
    "            return \"wrong name or password\"\n",
    "    #3.2 if the name doesn't exist return \"your name doesn't exist,\n",
    "    else:\n",
    "        write_txt(user,pwd)\n",
    "        return f\"{user},your name been recorded\"\n",
    "\n",
    "#4 Create sign_Up function that takes two inputs(newName,newPassword)\n",
    "def signup():\n",
    "    #Ask user to enter their name and password\n",
    "    user = input(\"Please input your newName: \")\n",
    "    pwd = input(\"Please input your newPassword: \")\n",
    "    #append the new information into the Credentials.txt file, \n",
    "        #follow the same format \"name,password\"\n",
    "    write_txt(user,pwd)\n",
    "    return f\"{user},your name been recorded\"\n",
    "\n",
    "print(login())\n",
    "print(signup())\n",
    "print(login())"
   ]
  },
  {
   "cell_type": "code",
   "execution_count": null,
   "metadata": {},
   "outputs": [],
   "source": []
  }
 ],
 "metadata": {
  "kernelspec": {
   "display_name": "Python 3 (ipykernel)",
   "language": "python",
   "name": "python3"
  },
  "language_info": {
   "codemirror_mode": {
    "name": "ipython",
    "version": 3
   },
   "file_extension": ".py",
   "mimetype": "text/x-python",
   "name": "python",
   "nbconvert_exporter": "python",
   "pygments_lexer": "ipython3",
   "version": "3.9.13"
  }
 },
 "nbformat": 4,
 "nbformat_minor": 4
}
