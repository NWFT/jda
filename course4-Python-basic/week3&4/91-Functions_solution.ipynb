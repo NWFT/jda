{
 "cells": [
  {
   "cell_type": "code",
   "execution_count": null,
   "id": "c47279dd",
   "metadata": {
    "id": "c47279dd",
    "outputId": "120c5f1e-63ca-44bb-b678-2d7f7940b4e6"
   },
   "outputs": [],
   "source": [
    "#Q1 Write Python function that takes two inputs\n",
    "#and return their sum value\n",
    "\n",
    "def add_two(a,b):\n",
    "    return(a+b)\n",
    "\n",
    "c = add_two(3,4)\n",
    "print(c)"
   ]
  },
  {
   "cell_type": "code",
   "execution_count": null,
   "id": "2af7c7cb",
   "metadata": {
    "id": "2af7c7cb",
    "outputId": "1c054817-9ea4-4500-f468-8ed2c6d2594e"
   },
   "outputs": [],
   "source": [
    "#Q2 Write Python function the takes a celsius temprature\n",
    "#and converts it into fahrenheit\n",
    "\n",
    "def fah(cel):\n",
    "    fah_v = (cel * 1.8) + 32\n",
    "    return fah_v\n",
    "\n",
    "fah_v_r=fah(23)\n",
    "print(fah_v_r)"
   ]
  },
  {
   "cell_type": "code",
   "execution_count": null,
   "id": "aa4534c6",
   "metadata": {
    "id": "aa4534c6",
    "outputId": "2038aa90-ae32-46ca-9824-8c1f883b52ad"
   },
   "outputs": [],
   "source": [
    "#Q3 Write a Python function to find the Max of three numbers\n",
    "\n",
    "def max_number(a,b,c):\n",
    "    x = a if a>b else b\n",
    "    return x if x>c else c\n",
    "    \n",
    "print(max_number(3,6,2))"
   ]
  },
  {
   "cell_type": "code",
   "execution_count": null,
   "id": "db76d64d",
   "metadata": {
    "id": "db76d64d",
    "outputId": "dcc97eeb-f6b0-498d-9878-2445ed6130d6"
   },
   "outputs": [],
   "source": [
    "#Q4 Write a Python function to check whether a number\n",
    "#is in a given range [5,12]\n",
    "\n",
    "range_n = [5,12]\n",
    "def test_range(n):\n",
    "    if n >= range_n[0] and n<= range_n[-1]:\n",
    "        return f\"{n} is in {range_n}\"\n",
    "    else:\n",
    "        return f\"{n} is NOT in {range_n}\"\n",
    "        \n",
    "x=int(input())\n",
    "print(test_range(x))"
   ]
  },
  {
   "cell_type": "code",
   "execution_count": null,
   "id": "89e0c8ca",
   "metadata": {
    "colab": {
     "base_uri": "https://localhost:8080/"
    },
    "executionInfo": {
     "elapsed": 112,
     "status": "ok",
     "timestamp": 1647816643942,
     "user": {
      "displayName": "Kowcika Asaithambi",
      "photoUrl": "https://lh3.googleusercontent.com/a-/AOh14Gg8KrW2zvKxTwJaLS-0c-2oYOj01Rjps5s0ankY=s64",
      "userId": "17282228569468897313"
     },
     "user_tz": 240
    },
    "id": "89e0c8ca",
    "outputId": "6121faab-cf83-4745-aeba-758739d9e3a4"
   },
   "outputs": [],
   "source": [
    "#Q5 Write a Python function that takes a list\n",
    "#and returns a new list with unique elements of the first\n",
    "#Sample_List : [1,2,3,3,3,3,4,5]\n",
    "\n",
    "sample_lst = [1,2,3,3,3,3,4,5]\n",
    "\n",
    "def unique_list(lst):\n",
    "  new_lst = []\n",
    "  for item in lst:\n",
    "    if item not in new_lst:\n",
    "      new_lst.append(item)\n",
    "  return new_lst\n",
    "\n",
    "print(unique_list(sample_lst)) \n"
   ]
  },
  {
   "cell_type": "code",
   "execution_count": null,
   "id": "8b5bfaf5",
   "metadata": {
    "id": "8b5bfaf5",
    "outputId": "6629dae2-240a-4506-c5bc-526c030d31a4"
   },
   "outputs": [],
   "source": [
    "#Q6 Given a list of numbers, return True if first\n",
    "#and last number of a list is same\n",
    "#list1=[1,2,5,4,1]\n",
    "#list2=[5,6,3,2,1]\n",
    "#list3=[88,44,55,66,77,88]\n",
    "\n",
    "def list1(x):\n",
    "    return x[0] == x[-1]\n",
    "\n",
    "print(list1([1,2,5,4,1,2]))\n"
   ]
  },
  {
   "cell_type": "code",
   "execution_count": null,
   "id": "cd98ce9b",
   "metadata": {
    "id": "cd98ce9b"
   },
   "outputs": [],
   "source": []
  }
 ],
 "metadata": {
  "colab": {
   "name": "Functions_solution.ipynb",
   "provenance": []
  },
  "kernelspec": {
   "display_name": "Python 3 (ipykernel)",
   "language": "python",
   "name": "python3"
  },
  "language_info": {
   "codemirror_mode": {
    "name": "ipython",
    "version": 3
   },
   "file_extension": ".py",
   "mimetype": "text/x-python",
   "name": "python",
   "nbconvert_exporter": "python",
   "pygments_lexer": "ipython3",
   "version": "3.9.13"
  }
 },
 "nbformat": 4,
 "nbformat_minor": 5
}
