{
 "cells": [
  {
   "cell_type": "code",
   "execution_count": 3,
   "id": "b98c8d37",
   "metadata": {},
   "outputs": [],
   "source": [
    "#Q1 Given two integer numbers. If any of the numbers are greater than 50 return Ture\n",
    "#number1=20\n",
    "#number2=40\n",
    "\n",
    "number1=20\n",
    "number2=40\n",
    "if(number1>50 or number2>50):\n",
    "    print(\"True\")"
   ]
  },
  {
   "cell_type": "code",
   "execution_count": 4,
   "id": "8dc01c08",
   "metadata": {},
   "outputs": [
    {
     "name": "stdout",
     "output_type": "stream",
     "text": [
      "True\n"
     ]
    }
   ],
   "source": [
    "#Q2 Given a list of numbers, return True if first and last number of a list is same\n",
    "#list=[1,2,5,4,1]\n",
    "\n",
    "list1=[1,2,5,4,1]\n",
    "\n",
    "if list1[0] == list1[-1]:\n",
    "    print(\"True\")"
   ]
  },
  {
   "cell_type": "code",
   "execution_count": 5,
   "id": "2147a300",
   "metadata": {},
   "outputs": [
    {
     "name": "stdout",
     "output_type": "stream",
     "text": [
      "Current number 1, Previous Number 0, sum is 1\n",
      "Current number 2, Previous Number 1, sum is 3\n",
      "Current number 3, Previous Number 2, sum is 5\n",
      "Current number 4, Previous Number 3, sum is 7\n",
      "Current number 5, Previous Number 4, sum is 9\n",
      "Current number 6, Previous Number 5, sum is 11\n",
      "Current number 7, Previous Number 6, sum is 13\n",
      "Current number 8, Previous Number 7, sum is 15\n",
      "Current number 9, Previous Number 8, sum is 17\n",
      "Current number 10, Previous Number 9, sum is 19\n"
     ]
    }
   ],
   "source": [
    "#Q3 Given a range of the first 10 numbers[1:10], Iterate from the start number to last number\n",
    "#and In each iteration print the sum of the current number and previous number\n",
    "previous_num = 0\n",
    "for i in range(1,11):\n",
    "    sum = previous_num + i\n",
    "    print(f'Current number {i}, Previous Number {previous_num}, sum is {sum}')\n",
    "    previous_num = i"
   ]
  },
  {
   "cell_type": "code",
   "execution_count": 7,
   "id": "abca75e3",
   "metadata": {},
   "outputs": [
    {
     "name": "stdout",
     "output_type": "stream",
     "text": [
      "N\n",
      "o\n",
      "e\n",
      "C\n",
      "n\n",
      "d\n"
     ]
    }
   ],
   "source": [
    "#Q4 Given a string name, display only those characters which are present at an even\n",
    "#name=\"NPowerCanada\"\n",
    "name=\"NPowerCanada\"\n",
    "for i in range(0,len(name),2):\n",
    "    print(name[i])"
   ]
  },
  {
   "cell_type": "code",
   "execution_count": 8,
   "id": "7329779c",
   "metadata": {},
   "outputs": [
    {
     "name": "stdout",
     "output_type": "stream",
     "text": [
      "Course\n"
     ]
    }
   ],
   "source": [
    "#Q5 Given a string oldString and an integer number n,\n",
    "#remove characters from a string starting from zero up to n and return a newStrin\n",
    "# oldString=\"PythonCourse\"\n",
    "#n=6\n",
    "oldString=\"PythonCourse\"\n",
    "n=6\n",
    "newStrin = oldString[n:]\n",
    "print(newStrin)"
   ]
  },
  {
   "cell_type": "code",
   "execution_count": 9,
   "id": "ae2d102b",
   "metadata": {},
   "outputs": [
    {
     "name": "stdout",
     "output_type": "stream",
     "text": [
      "*\n",
      "**\n",
      "***\n",
      "****\n"
     ]
    }
   ],
   "source": [
    "#Q6 Print the follwoing pattern\n",
    "#*\n",
    "#**\n",
    "#***\n",
    "#****\n",
    "for i in range(1,5):\n",
    "    print(\"*\" * i)"
   ]
  },
  {
   "cell_type": "code",
   "execution_count": 12,
   "id": "67e31603",
   "metadata": {},
   "outputs": [
    {
     "name": "stdout",
     "output_type": "stream",
     "text": [
      "[60, 50, 70, 90]\n"
     ]
    }
   ],
   "source": [
    "#Q7 Reverse the following list using for loop\n",
    "#list1=[90,70,50,60]\n",
    "\n",
    "list1=[90,70,50,60]\n",
    "\n",
    "for i in range(len(list1)//2):\n",
    "    list1[i], list1[-1-i] = list1[-1-i], list1[i]\n",
    "\n",
    "print(list1)"
   ]
  },
  {
   "cell_type": "code",
   "execution_count": 13,
   "id": "fb58abb6",
   "metadata": {},
   "outputs": [
    {
     "name": "stdout",
     "output_type": "stream",
     "text": [
      "-10\n",
      "-9\n",
      "-8\n",
      "-7\n",
      "-6\n",
      "-5\n",
      "-4\n",
      "-3\n",
      "-2\n",
      "-1\n"
     ]
    }
   ],
   "source": [
    "#Q8 Display numbers from -10 to -1 using for loop [hint use range method]\n",
    "for i in range(-10,0):\n",
    "    print(i)"
   ]
  },
  {
   "cell_type": "code",
   "execution_count": null,
   "id": "638d9597",
   "metadata": {},
   "outputs": [],
   "source": []
  }
 ],
 "metadata": {
  "kernelspec": {
   "display_name": "Python 3 (ipykernel)",
   "language": "python",
   "name": "python3"
  },
  "language_info": {
   "codemirror_mode": {
    "name": "ipython",
    "version": 3
   },
   "file_extension": ".py",
   "mimetype": "text/x-python",
   "name": "python",
   "nbconvert_exporter": "python",
   "pygments_lexer": "ipython3",
   "version": "3.9.13"
  }
 },
 "nbformat": 4,
 "nbformat_minor": 5
}
