{
 "cells": [
  {
   "cell_type": "code",
   "execution_count": 1,
   "id": "672b748d",
   "metadata": {},
   "outputs": [],
   "source": [
    "import pandas as pd"
   ]
  },
  {
   "cell_type": "code",
   "execution_count": 2,
   "id": "72caf1a8",
   "metadata": {},
   "outputs": [],
   "source": [
    "df = pd.read_excel(\"GoodBelly-DataSet.xlsx\",\"Real Data\")"
   ]
  },
  {
   "cell_type": "code",
   "execution_count": 3,
   "id": "1ab24fd9",
   "metadata": {},
   "outputs": [
    {
     "data": {
      "text/plain": [
       "1386"
      ]
     },
     "execution_count": 3,
     "metadata": {},
     "output_type": "execute_result"
    }
   ],
   "source": [
    "# Find how many records this data frame has\n",
    "len(df)"
   ]
  },
  {
   "cell_type": "code",
   "execution_count": 4,
   "id": "1244d83b",
   "metadata": {},
   "outputs": [
    {
     "data": {
      "text/plain": [
       "16632"
      ]
     },
     "execution_count": 4,
     "metadata": {},
     "output_type": "execute_result"
    }
   ],
   "source": [
    "# How many elements are there? \n",
    "df.shape[0] * df.shape[1]"
   ]
  },
  {
   "cell_type": "code",
   "execution_count": 5,
   "id": "0129e345",
   "metadata": {},
   "outputs": [
    {
     "data": {
      "text/plain": [
       "16632"
      ]
     },
     "execution_count": 5,
     "metadata": {},
     "output_type": "execute_result"
    }
   ],
   "source": [
    "df.size"
   ]
  },
  {
   "cell_type": "code",
   "execution_count": 6,
   "id": "b481cc6f",
   "metadata": {},
   "outputs": [
    {
     "data": {
      "text/plain": [
       "Index(['Date', 'Region', 'Store', 'Units Sold', 'Average Retail Price',\n",
       "       'Sales Rep', 'Endcap', 'Demo', 'Demo1-3', 'Demo4-5', 'Natural',\n",
       "       'Fitness'],\n",
       "      dtype='object')"
      ]
     },
     "execution_count": 6,
     "metadata": {},
     "output_type": "execute_result"
    }
   ],
   "source": [
    "# What are the column names?\n",
    "df.columns"
   ]
  },
  {
   "cell_type": "code",
   "execution_count": 7,
   "id": "d88b26fa",
   "metadata": {},
   "outputs": [
    {
     "data": {
      "text/plain": [
       "Date                    datetime64[ns]\n",
       "Region                          object\n",
       "Store                           object\n",
       "Units Sold                     float64\n",
       "Average Retail Price           float64\n",
       "Sales Rep                        int64\n",
       "Endcap                           int64\n",
       "Demo                             int64\n",
       "Demo1-3                          int64\n",
       "Demo4-5                          int64\n",
       "Natural                          int64\n",
       "Fitness                          int64\n",
       "dtype: object"
      ]
     },
     "execution_count": 7,
     "metadata": {},
     "output_type": "execute_result"
    }
   ],
   "source": [
    "# What types of columns do we have in this data frame?\n",
    "df.dtypes"
   ]
  },
  {
   "cell_type": "code",
   "execution_count": 8,
   "id": "89258147",
   "metadata": {},
   "outputs": [
    {
     "data": {
      "text/html": [
       "<div>\n",
       "<style scoped>\n",
       "    .dataframe tbody tr th:only-of-type {\n",
       "        vertical-align: middle;\n",
       "    }\n",
       "\n",
       "    .dataframe tbody tr th {\n",
       "        vertical-align: top;\n",
       "    }\n",
       "\n",
       "    .dataframe thead th {\n",
       "        text-align: right;\n",
       "    }\n",
       "</style>\n",
       "<table border=\"1\" class=\"dataframe\">\n",
       "  <thead>\n",
       "    <tr style=\"text-align: right;\">\n",
       "      <th></th>\n",
       "      <th>Date</th>\n",
       "      <th>Region</th>\n",
       "      <th>Store</th>\n",
       "      <th>Units Sold</th>\n",
       "      <th>Average Retail Price</th>\n",
       "      <th>Sales Rep</th>\n",
       "      <th>Endcap</th>\n",
       "      <th>Demo</th>\n",
       "      <th>Demo1-3</th>\n",
       "      <th>Demo4-5</th>\n",
       "      <th>Natural</th>\n",
       "      <th>Fitness</th>\n",
       "    </tr>\n",
       "  </thead>\n",
       "  <tbody>\n",
       "    <tr>\n",
       "      <th>0</th>\n",
       "      <td>2010-05-04</td>\n",
       "      <td>FL</td>\n",
       "      <td>Biscayne (aka Aventura)</td>\n",
       "      <td>150.702088</td>\n",
       "      <td>4.390000</td>\n",
       "      <td>0</td>\n",
       "      <td>0</td>\n",
       "      <td>0</td>\n",
       "      <td>0</td>\n",
       "      <td>0</td>\n",
       "      <td>1</td>\n",
       "      <td>0</td>\n",
       "    </tr>\n",
       "    <tr>\n",
       "      <th>1</th>\n",
       "      <td>2010-05-11</td>\n",
       "      <td>FL</td>\n",
       "      <td>Biscayne (aka Aventura)</td>\n",
       "      <td>197.403797</td>\n",
       "      <td>3.997692</td>\n",
       "      <td>0</td>\n",
       "      <td>0</td>\n",
       "      <td>0</td>\n",
       "      <td>0</td>\n",
       "      <td>0</td>\n",
       "      <td>1</td>\n",
       "      <td>0</td>\n",
       "    </tr>\n",
       "    <tr>\n",
       "      <th>2</th>\n",
       "      <td>2010-05-18</td>\n",
       "      <td>FL</td>\n",
       "      <td>Biscayne (aka Aventura)</td>\n",
       "      <td>235.106172</td>\n",
       "      <td>3.809231</td>\n",
       "      <td>0</td>\n",
       "      <td>0</td>\n",
       "      <td>0</td>\n",
       "      <td>0</td>\n",
       "      <td>0</td>\n",
       "      <td>1</td>\n",
       "      <td>0</td>\n",
       "    </tr>\n",
       "    <tr>\n",
       "      <th>3</th>\n",
       "      <td>2010-05-25</td>\n",
       "      <td>FL</td>\n",
       "      <td>Biscayne (aka Aventura)</td>\n",
       "      <td>226.692427</td>\n",
       "      <td>3.835000</td>\n",
       "      <td>0</td>\n",
       "      <td>0</td>\n",
       "      <td>0</td>\n",
       "      <td>0</td>\n",
       "      <td>0</td>\n",
       "      <td>1</td>\n",
       "      <td>0</td>\n",
       "    </tr>\n",
       "    <tr>\n",
       "      <th>4</th>\n",
       "      <td>2010-06-01</td>\n",
       "      <td>FL</td>\n",
       "      <td>Biscayne (aka Aventura)</td>\n",
       "      <td>257.688151</td>\n",
       "      <td>3.902500</td>\n",
       "      <td>0</td>\n",
       "      <td>0</td>\n",
       "      <td>0</td>\n",
       "      <td>0</td>\n",
       "      <td>0</td>\n",
       "      <td>1</td>\n",
       "      <td>0</td>\n",
       "    </tr>\n",
       "  </tbody>\n",
       "</table>\n",
       "</div>"
      ],
      "text/plain": [
       "        Date Region                    Store  Units Sold  \\\n",
       "0 2010-05-04     FL  Biscayne (aka Aventura)  150.702088   \n",
       "1 2010-05-11     FL  Biscayne (aka Aventura)  197.403797   \n",
       "2 2010-05-18     FL  Biscayne (aka Aventura)  235.106172   \n",
       "3 2010-05-25     FL  Biscayne (aka Aventura)  226.692427   \n",
       "4 2010-06-01     FL  Biscayne (aka Aventura)  257.688151   \n",
       "\n",
       "   Average Retail Price  Sales Rep  Endcap  Demo  Demo1-3  Demo4-5  Natural  \\\n",
       "0              4.390000          0       0     0        0        0        1   \n",
       "1              3.997692          0       0     0        0        0        1   \n",
       "2              3.809231          0       0     0        0        0        1   \n",
       "3              3.835000          0       0     0        0        0        1   \n",
       "4              3.902500          0       0     0        0        0        1   \n",
       "\n",
       "   Fitness  \n",
       "0        0  \n",
       "1        0  \n",
       "2        0  \n",
       "3        0  \n",
       "4        0  "
      ]
     },
     "execution_count": 8,
     "metadata": {},
     "output_type": "execute_result"
    }
   ],
   "source": [
    "df.head()"
   ]
  },
  {
   "cell_type": "code",
   "execution_count": 9,
   "id": "a49ac56b",
   "metadata": {},
   "outputs": [
    {
     "data": {
      "text/plain": [
       "Date                    1386\n",
       "Region                  1243\n",
       "Store                   1386\n",
       "Units Sold              1386\n",
       "Average Retail Price    1386\n",
       "Sales Rep               1386\n",
       "Endcap                  1386\n",
       "Demo                    1386\n",
       "Demo1-3                 1386\n",
       "Demo4-5                 1386\n",
       "Natural                 1386\n",
       "Fitness                 1386\n",
       "dtype: int64"
      ]
     },
     "execution_count": 9,
     "metadata": {},
     "output_type": "execute_result"
    }
   ],
   "source": [
    "# Give the summary for the numeric columns in the dataset\n",
    "df.count()"
   ]
  },
  {
   "cell_type": "code",
   "execution_count": 10,
   "id": "76e0d2b9",
   "metadata": {},
   "outputs": [
    {
     "data": {
      "text/plain": [
       "Units Sold              110.998731\n",
       "Average Retail Price      0.463828\n",
       "Sales Rep                 0.497695\n",
       "Endcap                    0.191843\n",
       "Demo                      0.234661\n",
       "Demo1-3                   0.363522\n",
       "Demo4-5                   0.264705\n",
       "Natural                   0.975092\n",
       "Fitness                   1.592789\n",
       "dtype: float64"
      ]
     },
     "execution_count": 10,
     "metadata": {},
     "output_type": "execute_result"
    }
   ],
   "source": [
    "# Calculate standard deviation for all numeric columns;\n",
    "\n",
    "# df[[\"Units Sold\",\"Average Retail Price\",\"Sales Rep\",\"Endcap\",\"Demo\",\"Demo1-3\",\"Demo4-5\",\"Natural\",\"Fitness\"]].std()\n",
    "df.std(numeric_only=True)"
   ]
  },
  {
   "cell_type": "code",
   "execution_count": 11,
   "id": "a5098520",
   "metadata": {},
   "outputs": [
    {
     "data": {
      "text/plain": [
       "Units Sold              50.359675\n",
       "Average Retail Price     0.265949\n",
       "Sales Rep                0.000000\n",
       "Endcap                   0.303046\n",
       "Demo                     0.000000\n",
       "Demo1-3                  0.000000\n",
       "Demo4-5                  0.197949\n",
       "Natural                  1.015191\n",
       "Fitness                  1.430855\n",
       "dtype: float64"
      ]
     },
     "execution_count": 11,
     "metadata": {},
     "output_type": "execute_result"
    }
   ],
   "source": [
    "# What are the mean values of the first 50 records in the dataset?   \n",
    "# Hint: use head() method to subset the first 50 records and then calculate the mean\n",
    "df[0:50].std(numeric_only=True)\n",
    "df.head(50).std(numeric_only=True)"
   ]
  },
  {
   "cell_type": "code",
   "execution_count": null,
   "id": "1f7ffbbb",
   "metadata": {},
   "outputs": [],
   "source": []
  },
  {
   "cell_type": "code",
   "execution_count": null,
   "id": "37fbe703",
   "metadata": {},
   "outputs": [],
   "source": []
  },
  {
   "cell_type": "code",
   "execution_count": 24,
   "id": "e10465d7",
   "metadata": {},
   "outputs": [],
   "source": [
    "# ACTIVITY 1\n",
    "d = {'Mouse':[150,200,300,400],'Keyboard':[180,200,190,300],'Scanner':[200,280,330,450]}\n",
    "# df=pd.DataFrame(d.index=['Jan','Feb','March','April'])"
   ]
  },
  {
   "cell_type": "code",
   "execution_count": 26,
   "id": "5bd27ed3",
   "metadata": {},
   "outputs": [],
   "source": [
    "df = pd.DataFrame(d)"
   ]
  },
  {
   "cell_type": "code",
   "execution_count": 30,
   "id": "2068b1e8",
   "metadata": {},
   "outputs": [
    {
     "data": {
      "text/html": [
       "<div>\n",
       "<style scoped>\n",
       "    .dataframe tbody tr th:only-of-type {\n",
       "        vertical-align: middle;\n",
       "    }\n",
       "\n",
       "    .dataframe tbody tr th {\n",
       "        vertical-align: top;\n",
       "    }\n",
       "\n",
       "    .dataframe thead th {\n",
       "        text-align: right;\n",
       "    }\n",
       "</style>\n",
       "<table border=\"1\" class=\"dataframe\">\n",
       "  <thead>\n",
       "    <tr style=\"text-align: right;\">\n",
       "      <th></th>\n",
       "      <th>Mouse</th>\n",
       "      <th>Keyboard</th>\n",
       "      <th>Scanner</th>\n",
       "    </tr>\n",
       "  </thead>\n",
       "  <tbody>\n",
       "    <tr>\n",
       "      <th>Jan</th>\n",
       "      <td>150</td>\n",
       "      <td>180</td>\n",
       "      <td>200</td>\n",
       "    </tr>\n",
       "    <tr>\n",
       "      <th>Feb</th>\n",
       "      <td>200</td>\n",
       "      <td>200</td>\n",
       "      <td>280</td>\n",
       "    </tr>\n",
       "    <tr>\n",
       "      <th>March</th>\n",
       "      <td>300</td>\n",
       "      <td>190</td>\n",
       "      <td>330</td>\n",
       "    </tr>\n",
       "    <tr>\n",
       "      <th>April</th>\n",
       "      <td>400</td>\n",
       "      <td>300</td>\n",
       "      <td>450</td>\n",
       "    </tr>\n",
       "  </tbody>\n",
       "</table>\n",
       "</div>"
      ],
      "text/plain": [
       "       Mouse  Keyboard  Scanner\n",
       "Jan      150       180      200\n",
       "Feb      200       200      280\n",
       "March    300       190      330\n",
       "April    400       300      450"
      ]
     },
     "execution_count": 30,
     "metadata": {},
     "output_type": "execute_result"
    }
   ],
   "source": [
    "df.index=['Jan','Feb','March','April']\n",
    "df"
   ]
  },
  {
   "cell_type": "code",
   "execution_count": 32,
   "id": "6e16459f",
   "metadata": {},
   "outputs": [
    {
     "data": {
      "text/html": [
       "<div>\n",
       "<style scoped>\n",
       "    .dataframe tbody tr th:only-of-type {\n",
       "        vertical-align: middle;\n",
       "    }\n",
       "\n",
       "    .dataframe tbody tr th {\n",
       "        vertical-align: top;\n",
       "    }\n",
       "\n",
       "    .dataframe thead th {\n",
       "        text-align: right;\n",
       "    }\n",
       "</style>\n",
       "<table border=\"1\" class=\"dataframe\">\n",
       "  <thead>\n",
       "    <tr style=\"text-align: right;\">\n",
       "      <th></th>\n",
       "      <th>Keyboard</th>\n",
       "      <th>Scanner</th>\n",
       "    </tr>\n",
       "  </thead>\n",
       "  <tbody>\n",
       "    <tr>\n",
       "      <th>Jan</th>\n",
       "      <td>180</td>\n",
       "      <td>200</td>\n",
       "    </tr>\n",
       "    <tr>\n",
       "      <th>Feb</th>\n",
       "      <td>200</td>\n",
       "      <td>280</td>\n",
       "    </tr>\n",
       "    <tr>\n",
       "      <th>March</th>\n",
       "      <td>190</td>\n",
       "      <td>330</td>\n",
       "    </tr>\n",
       "    <tr>\n",
       "      <th>April</th>\n",
       "      <td>300</td>\n",
       "      <td>450</td>\n",
       "    </tr>\n",
       "  </tbody>\n",
       "</table>\n",
       "</div>"
      ],
      "text/plain": [
       "       Keyboard  Scanner\n",
       "Jan         180      200\n",
       "Feb         200      280\n",
       "March       190      330\n",
       "April       300      450"
      ]
     },
     "execution_count": 32,
     "metadata": {},
     "output_type": "execute_result"
    }
   ],
   "source": [
    "# Write code to access data of Mouse and Scanner columns.\n",
    "df[[\"Keyboard\",\"Scanner\"]]"
   ]
  },
  {
   "cell_type": "code",
   "execution_count": 42,
   "id": "c13035df",
   "metadata": {},
   "outputs": [
    {
     "data": {
      "text/plain": [
       "Jan      180\n",
       "Feb      200\n",
       "March    190\n",
       "April    300\n",
       "Name: Keyboard, dtype: int64"
      ]
     },
     "execution_count": 42,
     "metadata": {},
     "output_type": "execute_result"
    }
   ],
   "source": [
    "# Write code to access data of the Keyboard column using dot notation and column name.\n",
    "df.Keyboard"
   ]
  },
  {
   "cell_type": "code",
   "execution_count": 43,
   "id": "986ceef6",
   "metadata": {},
   "outputs": [
    {
     "data": {
      "text/plain": [
       "Jan      200\n",
       "Feb      280\n",
       "March    330\n",
       "April    450\n",
       "Name: Scanner, dtype: int64"
      ]
     },
     "execution_count": 43,
     "metadata": {},
     "output_type": "execute_result"
    }
   ],
   "source": [
    "# Write code to access data of scanners using loc[].\n",
    "df.loc[:,\"Scanner\"]"
   ]
  },
  {
   "cell_type": "code",
   "execution_count": 44,
   "id": "d2953a4a",
   "metadata": {},
   "outputs": [
    {
     "data": {
      "text/html": [
       "<div>\n",
       "<style scoped>\n",
       "    .dataframe tbody tr th:only-of-type {\n",
       "        vertical-align: middle;\n",
       "    }\n",
       "\n",
       "    .dataframe tbody tr th {\n",
       "        vertical-align: top;\n",
       "    }\n",
       "\n",
       "    .dataframe thead th {\n",
       "        text-align: right;\n",
       "    }\n",
       "</style>\n",
       "<table border=\"1\" class=\"dataframe\">\n",
       "  <thead>\n",
       "    <tr style=\"text-align: right;\">\n",
       "      <th></th>\n",
       "      <th>Mouse</th>\n",
       "      <th>Keyboard</th>\n",
       "      <th>Scanner</th>\n",
       "    </tr>\n",
       "  </thead>\n",
       "  <tbody>\n",
       "    <tr>\n",
       "      <th>March</th>\n",
       "      <td>300</td>\n",
       "      <td>190</td>\n",
       "      <td>330</td>\n",
       "    </tr>\n",
       "    <tr>\n",
       "      <th>April</th>\n",
       "      <td>400</td>\n",
       "      <td>300</td>\n",
       "      <td>450</td>\n",
       "    </tr>\n",
       "  </tbody>\n",
       "</table>\n",
       "</div>"
      ],
      "text/plain": [
       "       Mouse  Keyboard  Scanner\n",
       "March    300       190      330\n",
       "April    400       300      450"
      ]
     },
     "execution_count": 44,
     "metadata": {},
     "output_type": "execute_result"
    }
   ],
   "source": [
    "# Write code to access data of all columns where mouse data is more than 200.\n",
    "df[df['Mouse']>200]"
   ]
  },
  {
   "cell_type": "code",
   "execution_count": 50,
   "id": "e810f7df",
   "metadata": {},
   "outputs": [
    {
     "data": {
      "text/plain": [
       "array(['Mouse', 'Keyboard', 'Scanner'], dtype=object)"
      ]
     },
     "execution_count": 50,
     "metadata": {},
     "output_type": "execute_result"
    }
   ],
   "source": [
    "# Write code to access columns using 0 and 2.\n",
    "# df[[0, 2]]\n",
    "df.columns.values"
   ]
  },
  {
   "cell_type": "code",
   "execution_count": 52,
   "id": "4a216f9b",
   "metadata": {},
   "outputs": [
    {
     "data": {
      "text/html": [
       "<div>\n",
       "<style scoped>\n",
       "    .dataframe tbody tr th:only-of-type {\n",
       "        vertical-align: middle;\n",
       "    }\n",
       "\n",
       "    .dataframe tbody tr th {\n",
       "        vertical-align: top;\n",
       "    }\n",
       "\n",
       "    .dataframe thead th {\n",
       "        text-align: right;\n",
       "    }\n",
       "</style>\n",
       "<table border=\"1\" class=\"dataframe\">\n",
       "  <thead>\n",
       "    <tr style=\"text-align: right;\">\n",
       "      <th></th>\n",
       "      <th>Keyboard</th>\n",
       "      <th>Scanner</th>\n",
       "    </tr>\n",
       "  </thead>\n",
       "  <tbody>\n",
       "    <tr>\n",
       "      <th>Jan</th>\n",
       "      <td>180</td>\n",
       "      <td>200</td>\n",
       "    </tr>\n",
       "    <tr>\n",
       "      <th>March</th>\n",
       "      <td>190</td>\n",
       "      <td>330</td>\n",
       "    </tr>\n",
       "  </tbody>\n",
       "</table>\n",
       "</div>"
      ],
      "text/plain": [
       "       Keyboard  Scanner\n",
       "Jan         180      200\n",
       "March       190      330"
      ]
     },
     "execution_count": 52,
     "metadata": {},
     "output_type": "execute_result"
    }
   ],
   "source": [
    "# Write code to access data of rows of jan and march for scanner and keyboard\n",
    "df[[\"Keyboard\",\"Scanner\"]].loc[[\"Jan\",\"March\"]]"
   ]
  },
  {
   "cell_type": "code",
   "execution_count": null,
   "id": "069f4512",
   "metadata": {},
   "outputs": [],
   "source": []
  }
 ],
 "metadata": {
  "kernelspec": {
   "display_name": "Python 3 (ipykernel)",
   "language": "python",
   "name": "python3"
  },
  "language_info": {
   "codemirror_mode": {
    "name": "ipython",
    "version": 3
   },
   "file_extension": ".py",
   "mimetype": "text/x-python",
   "name": "python",
   "nbconvert_exporter": "python",
   "pygments_lexer": "ipython3",
   "version": "3.9.13"
  }
 },
 "nbformat": 4,
 "nbformat_minor": 5
}
