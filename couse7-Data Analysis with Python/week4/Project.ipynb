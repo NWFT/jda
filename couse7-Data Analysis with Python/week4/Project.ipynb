{
 "cells": [
  {
   "cell_type": "code",
   "execution_count": 38,
   "id": "e21f9ace",
   "metadata": {},
   "outputs": [],
   "source": [
    "import pandas as pd\n",
    "import numpy as np\n",
    "import scipy.stats as stats\n",
    "import matplotlib.pyplot as plt"
   ]
  },
  {
   "cell_type": "code",
   "execution_count": 4,
   "id": "e2e04b0c",
   "metadata": {},
   "outputs": [],
   "source": [
    "df = pd.read_csv('https://raw.githubusercontent.com/CSSEGISandData/COVID-19/master/csse_covid_19_data/csse_covid_19_daily_reports/08-19-2021.csv')"
   ]
  },
  {
   "cell_type": "code",
   "execution_count": 5,
   "id": "c899b06d",
   "metadata": {},
   "outputs": [
    {
     "data": {
      "text/html": [
       "<div>\n",
       "<style scoped>\n",
       "    .dataframe tbody tr th:only-of-type {\n",
       "        vertical-align: middle;\n",
       "    }\n",
       "\n",
       "    .dataframe tbody tr th {\n",
       "        vertical-align: top;\n",
       "    }\n",
       "\n",
       "    .dataframe thead th {\n",
       "        text-align: right;\n",
       "    }\n",
       "</style>\n",
       "<table border=\"1\" class=\"dataframe\">\n",
       "  <thead>\n",
       "    <tr style=\"text-align: right;\">\n",
       "      <th></th>\n",
       "      <th>FIPS</th>\n",
       "      <th>Admin2</th>\n",
       "      <th>Province_State</th>\n",
       "      <th>Country_Region</th>\n",
       "      <th>Last_Update</th>\n",
       "      <th>Lat</th>\n",
       "      <th>Long_</th>\n",
       "      <th>Confirmed</th>\n",
       "      <th>Deaths</th>\n",
       "      <th>Recovered</th>\n",
       "      <th>Active</th>\n",
       "      <th>Combined_Key</th>\n",
       "      <th>Incident_Rate</th>\n",
       "      <th>Case_Fatality_Ratio</th>\n",
       "    </tr>\n",
       "  </thead>\n",
       "  <tbody>\n",
       "    <tr>\n",
       "      <th>0</th>\n",
       "      <td>NaN</td>\n",
       "      <td>NaN</td>\n",
       "      <td>NaN</td>\n",
       "      <td>Afghanistan</td>\n",
       "      <td>2021-08-20 04:21:33</td>\n",
       "      <td>33.93911</td>\n",
       "      <td>67.709953</td>\n",
       "      <td>152411</td>\n",
       "      <td>7047</td>\n",
       "      <td>NaN</td>\n",
       "      <td>NaN</td>\n",
       "      <td>Afghanistan</td>\n",
       "      <td>391.516813</td>\n",
       "      <td>4.623682</td>\n",
       "    </tr>\n",
       "    <tr>\n",
       "      <th>1</th>\n",
       "      <td>NaN</td>\n",
       "      <td>NaN</td>\n",
       "      <td>NaN</td>\n",
       "      <td>Albania</td>\n",
       "      <td>2021-08-20 04:21:33</td>\n",
       "      <td>41.15330</td>\n",
       "      <td>20.168300</td>\n",
       "      <td>137597</td>\n",
       "      <td>2473</td>\n",
       "      <td>NaN</td>\n",
       "      <td>NaN</td>\n",
       "      <td>Albania</td>\n",
       "      <td>4781.326013</td>\n",
       "      <td>1.797278</td>\n",
       "    </tr>\n",
       "    <tr>\n",
       "      <th>2</th>\n",
       "      <td>NaN</td>\n",
       "      <td>NaN</td>\n",
       "      <td>NaN</td>\n",
       "      <td>Algeria</td>\n",
       "      <td>2021-08-20 04:21:33</td>\n",
       "      <td>28.03390</td>\n",
       "      <td>1.659600</td>\n",
       "      <td>190078</td>\n",
       "      <td>4929</td>\n",
       "      <td>NaN</td>\n",
       "      <td>NaN</td>\n",
       "      <td>Algeria</td>\n",
       "      <td>433.462894</td>\n",
       "      <td>2.593146</td>\n",
       "    </tr>\n",
       "    <tr>\n",
       "      <th>3</th>\n",
       "      <td>NaN</td>\n",
       "      <td>NaN</td>\n",
       "      <td>NaN</td>\n",
       "      <td>Andorra</td>\n",
       "      <td>2021-08-20 04:21:33</td>\n",
       "      <td>42.50630</td>\n",
       "      <td>1.521800</td>\n",
       "      <td>14981</td>\n",
       "      <td>129</td>\n",
       "      <td>NaN</td>\n",
       "      <td>NaN</td>\n",
       "      <td>Andorra</td>\n",
       "      <td>19389.115382</td>\n",
       "      <td>0.861091</td>\n",
       "    </tr>\n",
       "    <tr>\n",
       "      <th>4</th>\n",
       "      <td>NaN</td>\n",
       "      <td>NaN</td>\n",
       "      <td>NaN</td>\n",
       "      <td>Angola</td>\n",
       "      <td>2021-08-20 04:21:33</td>\n",
       "      <td>-11.20270</td>\n",
       "      <td>17.873900</td>\n",
       "      <td>45325</td>\n",
       "      <td>1133</td>\n",
       "      <td>NaN</td>\n",
       "      <td>NaN</td>\n",
       "      <td>Angola</td>\n",
       "      <td>137.907352</td>\n",
       "      <td>2.499724</td>\n",
       "    </tr>\n",
       "  </tbody>\n",
       "</table>\n",
       "</div>"
      ],
      "text/plain": [
       "   FIPS Admin2 Province_State Country_Region          Last_Update       Lat  \\\n",
       "0   NaN    NaN            NaN    Afghanistan  2021-08-20 04:21:33  33.93911   \n",
       "1   NaN    NaN            NaN        Albania  2021-08-20 04:21:33  41.15330   \n",
       "2   NaN    NaN            NaN        Algeria  2021-08-20 04:21:33  28.03390   \n",
       "3   NaN    NaN            NaN        Andorra  2021-08-20 04:21:33  42.50630   \n",
       "4   NaN    NaN            NaN         Angola  2021-08-20 04:21:33 -11.20270   \n",
       "\n",
       "       Long_  Confirmed  Deaths  Recovered  Active Combined_Key  \\\n",
       "0  67.709953     152411    7047        NaN     NaN  Afghanistan   \n",
       "1  20.168300     137597    2473        NaN     NaN      Albania   \n",
       "2   1.659600     190078    4929        NaN     NaN      Algeria   \n",
       "3   1.521800      14981     129        NaN     NaN      Andorra   \n",
       "4  17.873900      45325    1133        NaN     NaN       Angola   \n",
       "\n",
       "   Incident_Rate  Case_Fatality_Ratio  \n",
       "0     391.516813             4.623682  \n",
       "1    4781.326013             1.797278  \n",
       "2     433.462894             2.593146  \n",
       "3   19389.115382             0.861091  \n",
       "4     137.907352             2.499724  "
      ]
     },
     "execution_count": 5,
     "metadata": {},
     "output_type": "execute_result"
    }
   ],
   "source": [
    "# 1. Write a Python program to display the first 5 rows from COVID-19 dataset. Also print the dataset information and check the missing values.\n",
    "df.head(5)"
   ]
  },
  {
   "cell_type": "code",
   "execution_count": 6,
   "id": "b61854f3",
   "metadata": {},
   "outputs": [
    {
     "name": "stdout",
     "output_type": "stream",
     "text": [
      "<class 'pandas.core.frame.DataFrame'>\n",
      "RangeIndex: 4014 entries, 0 to 4013\n",
      "Data columns (total 14 columns):\n",
      " #   Column               Non-Null Count  Dtype  \n",
      "---  ------               --------------  -----  \n",
      " 0   FIPS                 3266 non-null   float64\n",
      " 1   Admin2               3271 non-null   object \n",
      " 2   Province_State       3835 non-null   object \n",
      " 3   Country_Region       4014 non-null   object \n",
      " 4   Last_Update          4014 non-null   object \n",
      " 5   Lat                  3924 non-null   float64\n",
      " 6   Long_                3924 non-null   float64\n",
      " 7   Confirmed            4014 non-null   int64  \n",
      " 8   Deaths               4014 non-null   int64  \n",
      " 9   Recovered            28 non-null     float64\n",
      " 10  Active               28 non-null     float64\n",
      " 11  Combined_Key         4014 non-null   object \n",
      " 12  Incident_Rate        3924 non-null   float64\n",
      " 13  Case_Fatality_Ratio  3972 non-null   float64\n",
      "dtypes: float64(7), int64(2), object(5)\n",
      "memory usage: 439.2+ KB\n"
     ]
    }
   ],
   "source": [
    "df.info()"
   ]
  },
  {
   "cell_type": "code",
   "execution_count": 7,
   "id": "1288c5bd",
   "metadata": {},
   "outputs": [
    {
     "data": {
      "text/plain": [
       "FIPS                    748\n",
       "Admin2                  743\n",
       "Province_State          179\n",
       "Country_Region            0\n",
       "Last_Update               0\n",
       "Lat                      90\n",
       "Long_                    90\n",
       "Confirmed                 0\n",
       "Deaths                    0\n",
       "Recovered              3986\n",
       "Active                 3986\n",
       "Combined_Key              0\n",
       "Incident_Rate            90\n",
       "Case_Fatality_Ratio      42\n",
       "dtype: int64"
      ]
     },
     "execution_count": 7,
     "metadata": {},
     "output_type": "execute_result"
    }
   ],
   "source": [
    "df.isnull().sum()"
   ]
  },
  {
   "cell_type": "code",
   "execution_count": 8,
   "id": "d6771d25",
   "metadata": {},
   "outputs": [],
   "source": [
    "# 2. Write a python program to replace all the missing values with “Tobefound” for province column.\n",
    "df['Province_State'].fillna(value='Tobefound', inplace=True)"
   ]
  },
  {
   "cell_type": "code",
   "execution_count": 9,
   "id": "05642ac7",
   "metadata": {},
   "outputs": [
    {
     "data": {
      "text/plain": [
       "FIPS                    748\n",
       "Admin2                  743\n",
       "Province_State            0\n",
       "Country_Region            0\n",
       "Last_Update               0\n",
       "Lat                      90\n",
       "Long_                    90\n",
       "Confirmed                 0\n",
       "Deaths                    0\n",
       "Recovered              3986\n",
       "Active                 3986\n",
       "Combined_Key              0\n",
       "Incident_Rate            90\n",
       "Case_Fatality_Ratio      42\n",
       "dtype: int64"
      ]
     },
     "execution_count": 9,
     "metadata": {},
     "output_type": "execute_result"
    }
   ],
   "source": [
    "df.isnull().sum()"
   ]
  },
  {
   "cell_type": "code",
   "execution_count": 14,
   "id": "a9f3c1e2",
   "metadata": {},
   "outputs": [
    {
     "data": {
      "text/plain": [
       "3986"
      ]
     },
     "execution_count": 14,
     "metadata": {},
     "output_type": "execute_result"
    }
   ],
   "source": [
    "# 3. Find the Z-Score for column “Recovered”\n",
    "df['Recovered'].isnull().sum()"
   ]
  },
  {
   "cell_type": "code",
   "execution_count": 16,
   "id": "e3b7680e",
   "metadata": {},
   "outputs": [
    {
     "data": {
      "text/plain": [
       "0      -0.038158\n",
       "1      -0.038158\n",
       "2      -0.038158\n",
       "3      -0.038158\n",
       "4      -0.038158\n",
       "          ...   \n",
       "4009   -0.038158\n",
       "4010   -0.038158\n",
       "4011   -0.038158\n",
       "4012   -0.038158\n",
       "4013   -0.038158\n",
       "Name: Recovered, Length: 4014, dtype: float64"
      ]
     },
     "execution_count": 16,
     "metadata": {},
     "output_type": "execute_result"
    }
   ],
   "source": [
    "df['Recovered'].fillna(value=0,inplace=True)\n",
    "stats.zscore(df['Recovered'])"
   ]
  },
  {
   "cell_type": "code",
   "execution_count": 23,
   "id": "05f065f7",
   "metadata": {},
   "outputs": [],
   "source": [
    "# 4. Create bin values for “Recovered” column in the data set.\n",
    "bins = pd.cut(df['Recovered'],bins=5)\n",
    "# df['Recovered'].value_counts()"
   ]
  },
  {
   "cell_type": "code",
   "execution_count": 29,
   "id": "c8dab26a",
   "metadata": {},
   "outputs": [
    {
     "data": {
      "text/plain": [
       "216    France\n",
       "Name: Country_Region, dtype: object"
      ]
     },
     "execution_count": 29,
     "metadata": {},
     "output_type": "execute_result"
    }
   ],
   "source": [
    "# 5. Write a Python program to get the maximum number of confirmed, deaths, \n",
    "# recovered and active cases of Novel Coronavirus (COVID-19) Country wise.\n",
    "df[df['Confirmed'] == df['Confirmed'].max()]['Country_Region']"
   ]
  },
  {
   "cell_type": "code",
   "execution_count": 31,
   "id": "103418d2",
   "metadata": {},
   "outputs": [
    {
     "data": {
      "text/plain": [
       "65    Brazil\n",
       "Name: Country_Region, dtype: object"
      ]
     },
     "execution_count": 31,
     "metadata": {},
     "output_type": "execute_result"
    }
   ],
   "source": [
    "df[df['Deaths'] == df['Deaths'].max()]['Country_Region']"
   ]
  },
  {
   "cell_type": "code",
   "execution_count": 33,
   "id": "2d04b95f",
   "metadata": {},
   "outputs": [
    {
     "data": {
      "text/plain": [
       "3997    Malaysia\n",
       "Name: Country_Region, dtype: object"
      ]
     },
     "execution_count": 33,
     "metadata": {},
     "output_type": "execute_result"
    }
   ],
   "source": [
    "df[df['Recovered'] == df['Recovered'].max()]['Country_Region']"
   ]
  },
  {
   "cell_type": "code",
   "execution_count": 32,
   "id": "b88752d7",
   "metadata": {},
   "outputs": [
    {
     "data": {
      "text/plain": [
       "3997    Malaysia\n",
       "Name: Country_Region, dtype: object"
      ]
     },
     "execution_count": 32,
     "metadata": {},
     "output_type": "execute_result"
    }
   ],
   "source": [
    "df[df['Active'] == df['Active'].max()]['Country_Region']"
   ]
  },
  {
   "cell_type": "code",
   "execution_count": 35,
   "id": "5f7a9ff3",
   "metadata": {},
   "outputs": [
    {
     "name": "stderr",
     "output_type": "stream",
     "text": [
      "/var/folders/rz/6rwl1std7dz1npfq_pm66bfr0000gn/T/ipykernel_65148/1864770527.py:3: FutureWarning: Indexing with multiple keys (implicitly converted to a tuple of keys) will be deprecated, use a list instead.\n",
      "  df.groupby(by=['Country_Region', 'Province_State'])['Confirmed','Deaths','Recovered'].sum()\n"
     ]
    },
    {
     "data": {
      "text/html": [
       "<div>\n",
       "<style scoped>\n",
       "    .dataframe tbody tr th:only-of-type {\n",
       "        vertical-align: middle;\n",
       "    }\n",
       "\n",
       "    .dataframe tbody tr th {\n",
       "        vertical-align: top;\n",
       "    }\n",
       "\n",
       "    .dataframe thead th {\n",
       "        text-align: right;\n",
       "    }\n",
       "</style>\n",
       "<table border=\"1\" class=\"dataframe\">\n",
       "  <thead>\n",
       "    <tr style=\"text-align: right;\">\n",
       "      <th></th>\n",
       "      <th></th>\n",
       "      <th>Confirmed</th>\n",
       "      <th>Deaths</th>\n",
       "      <th>Recovered</th>\n",
       "    </tr>\n",
       "    <tr>\n",
       "      <th>Country_Region</th>\n",
       "      <th>Province_State</th>\n",
       "      <th></th>\n",
       "      <th></th>\n",
       "      <th></th>\n",
       "    </tr>\n",
       "  </thead>\n",
       "  <tbody>\n",
       "    <tr>\n",
       "      <th>Afghanistan</th>\n",
       "      <th>Tobefound</th>\n",
       "      <td>152411</td>\n",
       "      <td>7047</td>\n",
       "      <td>0.0</td>\n",
       "    </tr>\n",
       "    <tr>\n",
       "      <th>Albania</th>\n",
       "      <th>Tobefound</th>\n",
       "      <td>137597</td>\n",
       "      <td>2473</td>\n",
       "      <td>0.0</td>\n",
       "    </tr>\n",
       "    <tr>\n",
       "      <th>Algeria</th>\n",
       "      <th>Tobefound</th>\n",
       "      <td>190078</td>\n",
       "      <td>4929</td>\n",
       "      <td>0.0</td>\n",
       "    </tr>\n",
       "    <tr>\n",
       "      <th>Andorra</th>\n",
       "      <th>Tobefound</th>\n",
       "      <td>14981</td>\n",
       "      <td>129</td>\n",
       "      <td>0.0</td>\n",
       "    </tr>\n",
       "    <tr>\n",
       "      <th>Angola</th>\n",
       "      <th>Tobefound</th>\n",
       "      <td>45325</td>\n",
       "      <td>1133</td>\n",
       "      <td>0.0</td>\n",
       "    </tr>\n",
       "    <tr>\n",
       "      <th>...</th>\n",
       "      <th>...</th>\n",
       "      <td>...</td>\n",
       "      <td>...</td>\n",
       "      <td>...</td>\n",
       "    </tr>\n",
       "    <tr>\n",
       "      <th>West Bank and Gaza</th>\n",
       "      <th>Tobefound</th>\n",
       "      <td>323582</td>\n",
       "      <td>3628</td>\n",
       "      <td>0.0</td>\n",
       "    </tr>\n",
       "    <tr>\n",
       "      <th>Winter Olympics 2022</th>\n",
       "      <th>Tobefound</th>\n",
       "      <td>0</td>\n",
       "      <td>0</td>\n",
       "      <td>0.0</td>\n",
       "    </tr>\n",
       "    <tr>\n",
       "      <th>Yemen</th>\n",
       "      <th>Tobefound</th>\n",
       "      <td>7407</td>\n",
       "      <td>1414</td>\n",
       "      <td>0.0</td>\n",
       "    </tr>\n",
       "    <tr>\n",
       "      <th>Zambia</th>\n",
       "      <th>Tobefound</th>\n",
       "      <td>203553</td>\n",
       "      <td>3564</td>\n",
       "      <td>0.0</td>\n",
       "    </tr>\n",
       "    <tr>\n",
       "      <th>Zimbabwe</th>\n",
       "      <th>Tobefound</th>\n",
       "      <td>121902</td>\n",
       "      <td>4198</td>\n",
       "      <td>0.0</td>\n",
       "    </tr>\n",
       "  </tbody>\n",
       "</table>\n",
       "<p>795 rows × 3 columns</p>\n",
       "</div>"
      ],
      "text/plain": [
       "                                     Confirmed  Deaths  Recovered\n",
       "Country_Region       Province_State                              \n",
       "Afghanistan          Tobefound          152411    7047        0.0\n",
       "Albania              Tobefound          137597    2473        0.0\n",
       "Algeria              Tobefound          190078    4929        0.0\n",
       "Andorra              Tobefound           14981     129        0.0\n",
       "Angola               Tobefound           45325    1133        0.0\n",
       "...                                        ...     ...        ...\n",
       "West Bank and Gaza   Tobefound          323582    3628        0.0\n",
       "Winter Olympics 2022 Tobefound               0       0        0.0\n",
       "Yemen                Tobefound            7407    1414        0.0\n",
       "Zambia               Tobefound          203553    3564        0.0\n",
       "Zimbabwe             Tobefound          121902    4198        0.0\n",
       "\n",
       "[795 rows x 3 columns]"
      ]
     },
     "execution_count": 35,
     "metadata": {},
     "output_type": "execute_result"
    }
   ],
   "source": [
    "# 6. Write a Python program to get the total number of confirmed deaths and \n",
    "# recovered people of Novel Coronavirus (COVID-19) cases Country/Region - Province/State wise\n",
    "df.groupby(by=['Country_Region', 'Province_State'])['Confirmed','Deaths','Recovered'].sum()"
   ]
  },
  {
   "cell_type": "code",
   "execution_count": 1,
   "id": "e983ceeb",
   "metadata": {},
   "outputs": [],
   "source": [
    "# 7. Write a Python program to create a plot (lines) of total deaths, \n",
    "# confirmed, recovered and active cases Country wise where deaths greater than 150."
   ]
  },
  {
   "cell_type": "code",
   "execution_count": 45,
   "id": "1c1876c4",
   "metadata": {},
   "outputs": [
    {
     "data": {
      "text/plain": [
       "<matplotlib.legend.Legend at 0x7fd1eebcd670>"
      ]
     },
     "execution_count": 45,
     "metadata": {},
     "output_type": "execute_result"
    },
    {
     "name": "stderr",
     "output_type": "stream",
     "text": [
      "findfont: Font family ['sans-serif'] not found. Falling back to DejaVu Sans.\n",
      "findfont: Generic family 'sans-serif' not found because none of the following families were found: SimHei\n"
     ]
    },
    {
     "data": {
      "image/png": "[encoded data removed]",
      "text/plain": [
       "<Figure size 640x480 with 1 Axes>"
      ]
     },
     "metadata": {},
     "output_type": "display_data"
    }
   ],
   "source": [
    "# total deaths\n",
    "\n",
    "plt.plot(df.groupby(by='Country_Region')['Deaths'].sum(), label='deaths')\n",
    "plt.plot(df.groupby(by='Country_Region')['Confirmed'].sum(), label='Confirmed')\n",
    "plt.plot(df.groupby(by='Country_Region')['Recovered'].sum(), label='Recovered')\n",
    "plt.plot(df.groupby(by='Country_Region')['Active'].sum(), label='active')\n",
    "plt.xlabel(\"Country\")\n",
    "plt.ylabel('Number')\n",
    "plt.title(\"Nuber by Country\")\n",
    "plt.legend()"
   ]
  },
  {
   "cell_type": "code",
   "execution_count": 37,
   "id": "e1a9e583",
   "metadata": {},
   "outputs": [
    {
     "data": {
      "text/plain": [
       "Texas               255\n",
       "Tobefound           179\n",
       "Georgia             161\n",
       "Virginia            134\n",
       "Kentucky            121\n",
       "                   ... \n",
       "Sikkim                1\n",
       "Tamil Nadu            1\n",
       "Telangana             1\n",
       "Tripura               1\n",
       "Pitcairn Islands      1\n",
       "Name: Province_State, Length: 598, dtype: int64"
      ]
     },
     "execution_count": 37,
     "metadata": {},
     "output_type": "execute_result"
    }
   ],
   "source": [
    "df['Province_State'].value_counts()"
   ]
  },
  {
   "cell_type": "code",
   "execution_count": 40,
   "id": "8781f64f",
   "metadata": {},
   "outputs": [
    {
     "data": {
      "text/plain": [
       "Country_Region\n",
       "Afghanistan             7047\n",
       "Albania                 2473\n",
       "Algeria                 4929\n",
       "Andorra                  129\n",
       "Angola                  1133\n",
       "                        ... \n",
       "West Bank and Gaza      3628\n",
       "Winter Olympics 2022       0\n",
       "Yemen                   1414\n",
       "Zambia                  3564\n",
       "Zimbabwe                4198\n",
       "Name: Deaths, Length: 201, dtype: int64"
      ]
     },
     "execution_count": 40,
     "metadata": {},
     "output_type": "execute_result"
    }
   ],
   "source": [
    "df.groupby(by='Country_Region')['Deaths'].sum()"
   ]
  },
  {
   "cell_type": "code",
   "execution_count": null,
   "id": "799eeada",
   "metadata": {},
   "outputs": [],
   "source": []
  }
 ],
 "metadata": {
  "kernelspec": {
   "display_name": "Python 3 (ipykernel)",
   "language": "python",
   "name": "python3"
  },
  "language_info": {
   "codemirror_mode": {
    "name": "ipython",
    "version": 3
   },
   "file_extension": ".py",
   "mimetype": "text/x-python",
   "name": "python",
   "nbconvert_exporter": "python",
   "pygments_lexer": "ipython3",
   "version": "3.9.13"
  }
 },
 "nbformat": 4,
 "nbformat_minor": 5
}
