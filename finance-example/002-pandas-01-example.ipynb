{
 "cells": [
  {
   "cell_type": "markdown",
   "id": "3450876e",
   "metadata": {},
   "source": [
    "# python stock"
   ]
  },
  {
   "cell_type": "code",
   "execution_count": 4,
   "id": "b40724b9",
   "metadata": {},
   "outputs": [],
   "source": [
    "import numpy as np\n",
    "import pandas as pd\n",
    "import mplfinance as mpf\n",
    "import matplotlib.pyplot as plt\n",
    "import yfinance as yf\n",
    "from datetime import datetime, date"
   ]
  },
  {
   "cell_type": "code",
   "execution_count": 2,
   "id": "74165017",
   "metadata": {},
   "outputs": [],
   "source": [
    "pd.set_option('expand_frame_repr', False)  # 当列太多时不换行\n",
    "pd.set_option('display.max_rows', 5000)  # 最多显示数据的行数"
   ]
  },
  {
   "cell_type": "markdown",
   "id": "9371cc72",
   "metadata": {},
   "source": [
    "### Get a stock history data"
   ]
  },
  {
   "cell_type": "code",
   "execution_count": 5,
   "id": "32271450",
   "metadata": {},
   "outputs": [
    {
     "name": "stdout",
     "output_type": "stream",
     "text": [
      "[*********************100%***********************]  1 of 1 completed\n"
     ]
    }
   ],
   "source": [
    "# Download historical market data for GFS\n",
    "# =====读入股票数据\n",
    "ticker = \"GFS\"\n",
    "# 输入开始和结束日期(if needed)\n",
    "start_date = datetime(2021, 1, 1)\n",
    "end_date = date.today()\n",
    "\n",
    "# 通过yahoo finance获取所有交易数据\n",
    "df = yf.download(ticker, start=start_date, end=end_date)"
   ]
  },
  {
   "cell_type": "code",
   "execution_count": 10,
   "id": "4514f993",
   "metadata": {},
   "outputs": [
    {
     "data": {
      "text/plain": [
       "(350, 6)"
      ]
     },
     "execution_count": 10,
     "metadata": {},
     "output_type": "execute_result"
    }
   ],
   "source": [
    "df.shape"
   ]
  },
  {
   "cell_type": "markdown",
   "id": "c6716667",
   "metadata": {},
   "source": [
    "### write data into a h5-file"
   ]
  },
  {
   "cell_type": "code",
   "execution_count": 15,
   "id": "93d2d405",
   "metadata": {},
   "outputs": [],
   "source": [
    "df.to_hdf('./data/gfs.h5', key='df', mode='w')"
   ]
  },
  {
   "cell_type": "code",
   "execution_count": 5,
   "id": "493c32cc",
   "metadata": {},
   "outputs": [],
   "source": [
    "df = pd.read_hdf('./data/gfs.h5', 'df')"
   ]
  },
  {
   "cell_type": "markdown",
   "id": "7c136bb6",
   "metadata": {},
   "source": [
    "### Data wrangling"
   ]
  },
  {
   "cell_type": "code",
   "execution_count": 29,
   "id": "9acc8432",
   "metadata": {},
   "outputs": [
    {
     "data": {
      "text/html": [
       "<div>\n",
       "<style scoped>\n",
       "    .dataframe tbody tr th:only-of-type {\n",
       "        vertical-align: middle;\n",
       "    }\n",
       "\n",
       "    .dataframe tbody tr th {\n",
       "        vertical-align: top;\n",
       "    }\n",
       "\n",
       "    .dataframe thead th {\n",
       "        text-align: right;\n",
       "    }\n",
       "</style>\n",
       "<table border=\"1\" class=\"dataframe\">\n",
       "  <thead>\n",
       "    <tr style=\"text-align: right;\">\n",
       "      <th></th>\n",
       "      <th>Open</th>\n",
       "      <th>High</th>\n",
       "      <th>Low</th>\n",
       "      <th>Close</th>\n",
       "      <th>Adj Close</th>\n",
       "      <th>Volume</th>\n",
       "    </tr>\n",
       "    <tr>\n",
       "      <th>Date</th>\n",
       "      <th></th>\n",
       "      <th></th>\n",
       "      <th></th>\n",
       "      <th></th>\n",
       "      <th></th>\n",
       "      <th></th>\n",
       "    </tr>\n",
       "  </thead>\n",
       "  <tbody>\n",
       "    <tr>\n",
       "      <th>2021-10-28 00:00:00-04:00</th>\n",
       "      <td>47.009998</td>\n",
       "      <td>48.00</td>\n",
       "      <td>44.480000</td>\n",
       "      <td>46.400002</td>\n",
       "      <td>46.400002</td>\n",
       "      <td>18618900</td>\n",
       "    </tr>\n",
       "    <tr>\n",
       "      <th>2021-10-29 00:00:00-04:00</th>\n",
       "      <td>46.000000</td>\n",
       "      <td>49.48</td>\n",
       "      <td>45.610001</td>\n",
       "      <td>48.740002</td>\n",
       "      <td>48.740002</td>\n",
       "      <td>4639400</td>\n",
       "    </tr>\n",
       "  </tbody>\n",
       "</table>\n",
       "</div>"
      ],
      "text/plain": [
       "                                Open   High        Low      Close  Adj Close    Volume\n",
       "Date                                                                                  \n",
       "2021-10-28 00:00:00-04:00  47.009998  48.00  44.480000  46.400002  46.400002  18618900\n",
       "2021-10-29 00:00:00-04:00  46.000000  49.48  45.610001  48.740002  48.740002   4639400"
      ]
     },
     "execution_count": 29,
     "metadata": {},
     "output_type": "execute_result"
    }
   ],
   "source": [
    "df.head(2)"
   ]
  },
  {
   "cell_type": "code",
   "execution_count": 38,
   "id": "4be7230e",
   "metadata": {},
   "outputs": [
    {
     "name": "stdout",
     "output_type": "stream",
     "text": [
      "<class 'pandas.core.frame.DataFrame'>\n",
      "DatetimeIndex: 350 entries, 2021-10-28 00:00:00-04:00 to 2023-03-21 00:00:00-04:00\n",
      "Data columns (total 6 columns):\n",
      " #   Column     Non-Null Count  Dtype  \n",
      "---  ------     --------------  -----  \n",
      " 0   Open       350 non-null    float64\n",
      " 1   High       350 non-null    float64\n",
      " 2   Low        350 non-null    float64\n",
      " 3   Close      350 non-null    float64\n",
      " 4   Adj Close  350 non-null    float64\n",
      " 5   Volume     350 non-null    int64  \n",
      "dtypes: float64(5), int64(1)\n",
      "memory usage: 19.1 KB\n"
     ]
    }
   ],
   "source": [
    "# check dataframe info\n",
    "df.info()"
   ]
  },
  {
   "cell_type": "code",
   "execution_count": 27,
   "id": "2d17f41d",
   "metadata": {},
   "outputs": [],
   "source": [
    "# reset index\n",
    "# df.reset_index(inplace=True)\n",
    "# # 排序、去重\n",
    "# df.sort_values(by=['Date'], inplace=True)\n",
    "# df.drop_duplicates(subset=['Date'], inplace=True)\n",
    "# df.reset_index(inplace=True, drop=True)\n",
    "# # 原数据标题空格替换为\"_\"\n",
    "# df['Adj_Close'] = df['Adj Close']\n",
    "# df.drop(['Adj Close'], axis=1, inplace=True)\n",
    "# df.set_index('Date',inplace=True)"
   ]
  },
  {
   "cell_type": "code",
   "execution_count": 39,
   "id": "1c10a6f8",
   "metadata": {},
   "outputs": [],
   "source": [
    "# write clean data to file\n",
    "df.to_hdf('./data/gfs.h5', key='df', mode='w')"
   ]
  },
  {
   "cell_type": "code",
   "execution_count": null,
   "id": "53186969",
   "metadata": {},
   "outputs": [],
   "source": []
  },
  {
   "cell_type": "markdown",
   "id": "3ec63acd",
   "metadata": {},
   "source": [
    "### 输出该股票，收盘比开盘上涨3%以上的日期"
   ]
  },
  {
   "cell_type": "code",
   "execution_count": 6,
   "id": "ca63e793",
   "metadata": {},
   "outputs": [],
   "source": [
    "# (close - open)/open > 3%\n",
    "filt = (df['Close']-df['Open'])/df['Open'] > 0.03\n",
    "# df[filt, '3%date'] = df['Date']\n",
    "filt"
   ]
  },
  {
   "cell_type": "code",
   "execution_count": 7,
   "id": "6f7420a8",
   "metadata": {},
   "outputs": [
    {
     "data": {
      "text/plain": [
       "DatetimeIndex(['2021-10-29 00:00:00-04:00', '2021-11-03 00:00:00-04:00',\n",
       "               '2021-11-04 00:00:00-04:00', '2021-11-15 00:00:00-05:00',\n",
       "               '2021-11-16 00:00:00-05:00', '2021-11-24 00:00:00-05:00',\n",
       "               '2021-12-03 00:00:00-05:00', '2021-12-27 00:00:00-05:00',\n",
       "               '2022-01-11 00:00:00-05:00', '2022-01-24 00:00:00-05:00',\n",
       "               '2022-01-28 00:00:00-05:00', '2022-01-31 00:00:00-05:00',\n",
       "               '2022-02-04 00:00:00-05:00', '2022-02-07 00:00:00-05:00',\n",
       "               '2022-02-08 00:00:00-05:00', '2022-02-10 00:00:00-05:00',\n",
       "               '2022-02-24 00:00:00-05:00', '2022-02-25 00:00:00-05:00',\n",
       "               '2022-02-28 00:00:00-05:00', '2022-03-10 00:00:00-05:00',\n",
       "               '2022-03-15 00:00:00-04:00', '2022-03-16 00:00:00-04:00',\n",
       "               '2022-03-17 00:00:00-04:00', '2022-03-18 00:00:00-04:00',\n",
       "               '2022-03-24 00:00:00-04:00', '2022-03-25 00:00:00-04:00',\n",
       "               '2022-04-25 00:00:00-04:00', '2022-04-27 00:00:00-04:00',\n",
       "               '2022-05-02 00:00:00-04:00', '2022-05-04 00:00:00-04:00',\n",
       "               '2022-05-06 00:00:00-04:00', '2022-05-12 00:00:00-04:00',\n",
       "               '2022-05-13 00:00:00-04:00', '2022-05-16 00:00:00-04:00',\n",
       "               '2022-05-17 00:00:00-04:00', '2022-05-24 00:00:00-04:00',\n",
       "               '2022-05-25 00:00:00-04:00', '2022-05-26 00:00:00-04:00',\n",
       "               '2022-06-02 00:00:00-04:00', '2022-06-15 00:00:00-04:00',\n",
       "               '2022-06-24 00:00:00-04:00', '2022-07-05 00:00:00-04:00',\n",
       "               '2022-07-07 00:00:00-04:00', '2022-07-08 00:00:00-04:00',\n",
       "               '2022-07-14 00:00:00-04:00', '2022-07-19 00:00:00-04:00',\n",
       "               '2022-07-20 00:00:00-04:00', '2022-07-29 00:00:00-04:00',\n",
       "               '2022-08-01 00:00:00-04:00', '2022-08-08 00:00:00-04:00',\n",
       "               '2022-08-12 00:00:00-04:00', '2022-08-18 00:00:00-04:00',\n",
       "               '2022-08-25 00:00:00-04:00', '2022-10-05 00:00:00-04:00',\n",
       "               '2022-10-11 00:00:00-04:00', '2022-10-13 00:00:00-04:00',\n",
       "               '2022-10-21 00:00:00-04:00', '2022-10-24 00:00:00-04:00',\n",
       "               '2022-10-28 00:00:00-04:00', '2022-11-17 00:00:00-05:00',\n",
       "               '2022-12-12 00:00:00-05:00', '2023-01-09 00:00:00-05:00',\n",
       "               '2023-01-23 00:00:00-05:00', '2023-01-31 00:00:00-05:00',\n",
       "               '2023-02-01 00:00:00-05:00', '2023-02-14 00:00:00-05:00',\n",
       "               '2023-03-02 00:00:00-05:00', '2023-03-16 00:00:00-04:00'],\n",
       "              dtype='datetime64[ns, America/New_York]', name='Date', freq=None)"
      ]
     },
     "execution_count": 7,
     "metadata": {},
     "output_type": "execute_result"
    }
   ],
   "source": [
    "# get Datetiem with index\n",
    "df[filt].index"
   ]
  },
  {
   "cell_type": "markdown",
   "id": "77e3aa66",
   "metadata": {},
   "source": [
    "### 输出该股票，开盘比前一周期收盘 下跌2%以上的日期"
   ]
  },
  {
   "cell_type": "code",
   "execution_count": 67,
   "id": "d7898ee7",
   "metadata": {},
   "outputs": [],
   "source": [
    "# (open - 前close)/前close < -0.02\n",
    "filt = (df['Open']-df['Close'].shift(1))/df['Close'].shift(1) < -0.02\n",
    "# filt"
   ]
  },
  {
   "cell_type": "code",
   "execution_count": 66,
   "id": "d77fc2b1",
   "metadata": {},
   "outputs": [
    {
     "data": {
      "text/plain": [
       "DatetimeIndex(['2021-11-26 00:00:00-05:00', '2021-12-17 00:00:00-05:00',\n",
       "               '2021-12-20 00:00:00-05:00', '2022-01-10 00:00:00-05:00',\n",
       "               '2022-01-21 00:00:00-05:00', '2022-01-24 00:00:00-05:00',\n",
       "               '2022-01-25 00:00:00-05:00', '2022-02-03 00:00:00-05:00',\n",
       "               '2022-02-24 00:00:00-05:00', '2022-02-28 00:00:00-05:00',\n",
       "               '2022-03-10 00:00:00-05:00', '2022-03-17 00:00:00-04:00',\n",
       "               '2022-04-06 00:00:00-04:00', '2022-04-11 00:00:00-04:00',\n",
       "               '2022-05-09 00:00:00-04:00', '2022-05-11 00:00:00-04:00',\n",
       "               '2022-05-12 00:00:00-04:00', '2022-05-16 00:00:00-04:00',\n",
       "               '2022-05-18 00:00:00-04:00', '2022-05-23 00:00:00-04:00',\n",
       "               '2022-05-24 00:00:00-04:00', '2022-06-03 00:00:00-04:00',\n",
       "               '2022-06-07 00:00:00-04:00', '2022-06-10 00:00:00-04:00',\n",
       "               '2022-06-13 00:00:00-04:00', '2022-06-16 00:00:00-04:00',\n",
       "               '2022-06-22 00:00:00-04:00', '2022-07-01 00:00:00-04:00',\n",
       "               '2022-07-05 00:00:00-04:00', '2022-07-08 00:00:00-04:00',\n",
       "               '2022-08-15 00:00:00-04:00', '2022-08-17 00:00:00-04:00',\n",
       "               '2022-08-19 00:00:00-04:00', '2022-08-22 00:00:00-04:00',\n",
       "               '2022-09-13 00:00:00-04:00', '2022-09-19 00:00:00-04:00',\n",
       "               '2022-09-29 00:00:00-04:00', '2022-10-05 00:00:00-04:00',\n",
       "               '2022-10-07 00:00:00-04:00', '2022-10-11 00:00:00-04:00',\n",
       "               '2022-10-13 00:00:00-04:00', '2022-11-03 00:00:00-04:00',\n",
       "               '2022-11-09 00:00:00-05:00', '2022-11-17 00:00:00-05:00',\n",
       "               '2022-12-02 00:00:00-05:00', '2022-12-22 00:00:00-05:00',\n",
       "               '2023-01-05 00:00:00-05:00', '2023-02-06 00:00:00-05:00',\n",
       "               '2023-02-15 00:00:00-05:00', '2023-02-16 00:00:00-05:00',\n",
       "               '2023-02-24 00:00:00-05:00', '2023-03-02 00:00:00-05:00'],\n",
       "              dtype='datetime64[ns, America/New_York]', name='Date', freq=None)"
      ]
     },
     "execution_count": 66,
     "metadata": {},
     "output_type": "execute_result"
    }
   ],
   "source": [
    "df[filt].index"
   ]
  },
  {
   "cell_type": "code",
   "execution_count": null,
   "id": "e40bdbb6",
   "metadata": {},
   "outputs": [],
   "source": []
  },
  {
   "cell_type": "markdown",
   "id": "56876068",
   "metadata": {},
   "source": [
    "# 假如，从GFS上市开始，每月第一个交易日买入100股票，每年最后一个交易日卖出所有股票，计数到目前的收益。"
   ]
  },
  {
   "cell_type": "code",
   "execution_count": 68,
   "id": "6f9c88b1",
   "metadata": {},
   "outputs": [],
   "source": [
    "# - Year: 2022-2023\n",
    "# - Buy:\n",
    "#   - whole year, 12*100=1,200\n",
    "# - Sell:\n",
    "#   - whole year, 1200\n",
    "# - Price: df['Open']"
   ]
  },
  {
   "cell_type": "code",
   "execution_count": 85,
   "id": "c157995d",
   "metadata": {},
   "outputs": [],
   "source": [
    "new_df = df['2022-01':'2023-03']"
   ]
  },
  {
   "cell_type": "code",
   "execution_count": 86,
   "id": "ec1d58af",
   "metadata": {},
   "outputs": [
    {
     "data": {
      "text/html": [
       "<div>\n",
       "<style scoped>\n",
       "    .dataframe tbody tr th:only-of-type {\n",
       "        vertical-align: middle;\n",
       "    }\n",
       "\n",
       "    .dataframe tbody tr th {\n",
       "        vertical-align: top;\n",
       "    }\n",
       "\n",
       "    .dataframe thead th {\n",
       "        text-align: right;\n",
       "    }\n",
       "</style>\n",
       "<table border=\"1\" class=\"dataframe\">\n",
       "  <thead>\n",
       "    <tr style=\"text-align: right;\">\n",
       "      <th></th>\n",
       "      <th>Open</th>\n",
       "      <th>High</th>\n",
       "      <th>Low</th>\n",
       "      <th>Close</th>\n",
       "      <th>Adj Close</th>\n",
       "      <th>Volume</th>\n",
       "    </tr>\n",
       "    <tr>\n",
       "      <th>Date</th>\n",
       "      <th></th>\n",
       "      <th></th>\n",
       "      <th></th>\n",
       "      <th></th>\n",
       "      <th></th>\n",
       "      <th></th>\n",
       "    </tr>\n",
       "  </thead>\n",
       "  <tbody>\n",
       "    <tr>\n",
       "      <th>2022-01-31 00:00:00-05:00</th>\n",
       "      <td>65.089996</td>\n",
       "      <td>67.389999</td>\n",
       "      <td>64.349998</td>\n",
       "      <td>66.730003</td>\n",
       "      <td>66.730003</td>\n",
       "      <td>1766500</td>\n",
       "    </tr>\n",
       "    <tr>\n",
       "      <th>2022-02-28 00:00:00-05:00</th>\n",
       "      <td>49.830002</td>\n",
       "      <td>50.720001</td>\n",
       "      <td>49.458000</td>\n",
       "      <td>50.090000</td>\n",
       "      <td>50.090000</td>\n",
       "      <td>1587000</td>\n",
       "    </tr>\n",
       "    <tr>\n",
       "      <th>2022-03-31 00:00:00-04:00</th>\n",
       "      <td>60.500000</td>\n",
       "      <td>60.639999</td>\n",
       "      <td>57.599998</td>\n",
       "      <td>58.220001</td>\n",
       "      <td>58.220001</td>\n",
       "      <td>1800100</td>\n",
       "    </tr>\n",
       "    <tr>\n",
       "      <th>2022-04-30 00:00:00-04:00</th>\n",
       "      <td>62.799999</td>\n",
       "      <td>63.529999</td>\n",
       "      <td>59.480000</td>\n",
       "      <td>60.740002</td>\n",
       "      <td>60.740002</td>\n",
       "      <td>2951100</td>\n",
       "    </tr>\n",
       "    <tr>\n",
       "      <th>2022-05-31 00:00:00-04:00</th>\n",
       "      <td>52.060001</td>\n",
       "      <td>53.860001</td>\n",
       "      <td>50.000000</td>\n",
       "      <td>53.770000</td>\n",
       "      <td>53.770000</td>\n",
       "      <td>1913500</td>\n",
       "    </tr>\n",
       "    <tr>\n",
       "      <th>2022-06-30 00:00:00-04:00</th>\n",
       "      <td>59.490002</td>\n",
       "      <td>61.880001</td>\n",
       "      <td>56.070000</td>\n",
       "      <td>58.119999</td>\n",
       "      <td>58.119999</td>\n",
       "      <td>2554100</td>\n",
       "    </tr>\n",
       "    <tr>\n",
       "      <th>2022-07-31 00:00:00-04:00</th>\n",
       "      <td>39.480000</td>\n",
       "      <td>39.500000</td>\n",
       "      <td>37.599998</td>\n",
       "      <td>38.810001</td>\n",
       "      <td>38.810001</td>\n",
       "      <td>3541500</td>\n",
       "    </tr>\n",
       "    <tr>\n",
       "      <th>2022-08-31 00:00:00-04:00</th>\n",
       "      <td>51.180000</td>\n",
       "      <td>58.279999</td>\n",
       "      <td>51.115002</td>\n",
       "      <td>54.540001</td>\n",
       "      <td>54.540001</td>\n",
       "      <td>6242900</td>\n",
       "    </tr>\n",
       "    <tr>\n",
       "      <th>2022-09-30 00:00:00-04:00</th>\n",
       "      <td>59.169998</td>\n",
       "      <td>59.174999</td>\n",
       "      <td>55.799999</td>\n",
       "      <td>57.430000</td>\n",
       "      <td>57.430000</td>\n",
       "      <td>2405300</td>\n",
       "    </tr>\n",
       "    <tr>\n",
       "      <th>2022-10-31 00:00:00-04:00</th>\n",
       "      <td>48.880001</td>\n",
       "      <td>49.830002</td>\n",
       "      <td>47.439999</td>\n",
       "      <td>49.830002</td>\n",
       "      <td>49.830002</td>\n",
       "      <td>2024500</td>\n",
       "    </tr>\n",
       "    <tr>\n",
       "      <th>2022-11-30 00:00:00-05:00</th>\n",
       "      <td>58.090000</td>\n",
       "      <td>58.755001</td>\n",
       "      <td>56.189999</td>\n",
       "      <td>57.009998</td>\n",
       "      <td>57.009998</td>\n",
       "      <td>1292100</td>\n",
       "    </tr>\n",
       "    <tr>\n",
       "      <th>2022-12-31 00:00:00-05:00</th>\n",
       "      <td>64.320000</td>\n",
       "      <td>64.430000</td>\n",
       "      <td>61.869999</td>\n",
       "      <td>63.660000</td>\n",
       "      <td>63.660000</td>\n",
       "      <td>1617000</td>\n",
       "    </tr>\n",
       "    <tr>\n",
       "      <th>2023-01-31 00:00:00-05:00</th>\n",
       "      <td>53.930000</td>\n",
       "      <td>54.110001</td>\n",
       "      <td>50.400002</td>\n",
       "      <td>51.700001</td>\n",
       "      <td>51.700001</td>\n",
       "      <td>2295700</td>\n",
       "    </tr>\n",
       "    <tr>\n",
       "      <th>2023-02-28 00:00:00-05:00</th>\n",
       "      <td>59.450001</td>\n",
       "      <td>64.029999</td>\n",
       "      <td>59.380001</td>\n",
       "      <td>63.189999</td>\n",
       "      <td>63.189999</td>\n",
       "      <td>1634400</td>\n",
       "    </tr>\n",
       "    <tr>\n",
       "      <th>2023-03-31 00:00:00-04:00</th>\n",
       "      <td>65.589996</td>\n",
       "      <td>67.269997</td>\n",
       "      <td>64.879997</td>\n",
       "      <td>65.110001</td>\n",
       "      <td>65.110001</td>\n",
       "      <td>1319400</td>\n",
       "    </tr>\n",
       "  </tbody>\n",
       "</table>\n",
       "</div>"
      ],
      "text/plain": [
       "                                Open       High        Low      Close  Adj Close   Volume\n",
       "Date                                                                                     \n",
       "2022-01-31 00:00:00-05:00  65.089996  67.389999  64.349998  66.730003  66.730003  1766500\n",
       "2022-02-28 00:00:00-05:00  49.830002  50.720001  49.458000  50.090000  50.090000  1587000\n",
       "2022-03-31 00:00:00-04:00  60.500000  60.639999  57.599998  58.220001  58.220001  1800100\n",
       "2022-04-30 00:00:00-04:00  62.799999  63.529999  59.480000  60.740002  60.740002  2951100\n",
       "2022-05-31 00:00:00-04:00  52.060001  53.860001  50.000000  53.770000  53.770000  1913500\n",
       "2022-06-30 00:00:00-04:00  59.490002  61.880001  56.070000  58.119999  58.119999  2554100\n",
       "2022-07-31 00:00:00-04:00  39.480000  39.500000  37.599998  38.810001  38.810001  3541500\n",
       "2022-08-31 00:00:00-04:00  51.180000  58.279999  51.115002  54.540001  54.540001  6242900\n",
       "2022-09-30 00:00:00-04:00  59.169998  59.174999  55.799999  57.430000  57.430000  2405300\n",
       "2022-10-31 00:00:00-04:00  48.880001  49.830002  47.439999  49.830002  49.830002  2024500\n",
       "2022-11-30 00:00:00-05:00  58.090000  58.755001  56.189999  57.009998  57.009998  1292100\n",
       "2022-12-31 00:00:00-05:00  64.320000  64.430000  61.869999  63.660000  63.660000  1617000\n",
       "2023-01-31 00:00:00-05:00  53.930000  54.110001  50.400002  51.700001  51.700001  2295700\n",
       "2023-02-28 00:00:00-05:00  59.450001  64.029999  59.380001  63.189999  63.189999  1634400\n",
       "2023-03-31 00:00:00-04:00  65.589996  67.269997  64.879997  65.110001  65.110001  1319400"
      ]
     },
     "execution_count": 86,
     "metadata": {},
     "output_type": "execute_result"
    }
   ],
   "source": [
    "# Buy, 找到每个月的第一个交易日对应的行数据（df['Open']）, 作为买入股票的价格\n",
    "# 每个月的第一行数据\n",
    "df_monthly = new_df.resample(\"M\").first() # 数据重新取样\n",
    "df_monthly"
   ]
  },
  {
   "cell_type": "code",
   "execution_count": 87,
   "id": "c765c01e",
   "metadata": {},
   "outputs": [
    {
     "data": {
      "text/plain": [
       "84985.99967956543"
      ]
     },
     "execution_count": 87,
     "metadata": {},
     "output_type": "execute_result"
    }
   ],
   "source": [
    "# Total cost on buy\n",
    "cost = df_monthly['Open'].sum()*100\n",
    "cost"
   ]
  },
  {
   "cell_type": "code",
   "execution_count": 88,
   "id": "5a807ed4",
   "metadata": {},
   "outputs": [
    {
     "data": {
      "text/html": [
       "<div>\n",
       "<style scoped>\n",
       "    .dataframe tbody tr th:only-of-type {\n",
       "        vertical-align: middle;\n",
       "    }\n",
       "\n",
       "    .dataframe tbody tr th {\n",
       "        vertical-align: top;\n",
       "    }\n",
       "\n",
       "    .dataframe thead th {\n",
       "        text-align: right;\n",
       "    }\n",
       "</style>\n",
       "<table border=\"1\" class=\"dataframe\">\n",
       "  <thead>\n",
       "    <tr style=\"text-align: right;\">\n",
       "      <th></th>\n",
       "      <th>Open</th>\n",
       "      <th>High</th>\n",
       "      <th>Low</th>\n",
       "      <th>Close</th>\n",
       "      <th>Adj Close</th>\n",
       "      <th>Volume</th>\n",
       "    </tr>\n",
       "    <tr>\n",
       "      <th>Date</th>\n",
       "      <th></th>\n",
       "      <th></th>\n",
       "      <th></th>\n",
       "      <th></th>\n",
       "      <th></th>\n",
       "      <th></th>\n",
       "    </tr>\n",
       "  </thead>\n",
       "  <tbody>\n",
       "    <tr>\n",
       "      <th>2022-12-31 00:00:00-05:00</th>\n",
       "      <td>53.029999</td>\n",
       "      <td>54.005001</td>\n",
       "      <td>52.450001</td>\n",
       "      <td>53.889999</td>\n",
       "      <td>53.889999</td>\n",
       "      <td>1246300</td>\n",
       "    </tr>\n",
       "  </tbody>\n",
       "</table>\n",
       "</div>"
      ],
      "text/plain": [
       "                                Open       High        Low      Close  Adj Close   Volume\n",
       "Date                                                                                     \n",
       "2022-12-31 00:00:00-05:00  53.029999  54.005001  52.450001  53.889999  53.889999  1246300"
      ]
     },
     "execution_count": 88,
     "metadata": {},
     "output_type": "execute_result"
    }
   ],
   "source": [
    "# sell \n",
    "# 取出所有年\n",
    "new_df.resample(\"A\").last()\n",
    "# 2023年股票未卖出，将最后一行去除\n",
    "df_yearly = new_df.resample(\"A\").last()[:-1]\n",
    "df_yearly"
   ]
  },
  {
   "cell_type": "code",
   "execution_count": 89,
   "id": "a2558b81",
   "metadata": {},
   "outputs": [
    {
     "data": {
      "text/plain": [
       "63635.99853515625"
      ]
     },
     "execution_count": 89,
     "metadata": {},
     "output_type": "execute_result"
    }
   ],
   "source": [
    "# 卖出股票到手的钱\n",
    "resv = df_yearly['Open'].sum()*1200\n",
    "resv"
   ]
  },
  {
   "cell_type": "code",
   "execution_count": 91,
   "id": "d5417ccc",
   "metadata": {},
   "outputs": [],
   "source": [
    "# 2023年股票价值\n",
    "# 使用昨日收盘价，作为剩余股票的估值\n",
    "last = 300 * new_df['Close'][-1]"
   ]
  },
  {
   "cell_type": "code",
   "execution_count": 92,
   "id": "d1685a6e",
   "metadata": {},
   "outputs": [
    {
     "data": {
      "text/plain": [
       "-698.0022430419922"
      ]
     },
     "execution_count": 92,
     "metadata": {},
     "output_type": "execute_result"
    }
   ],
   "source": [
    "# 总收益\n",
    "resv + last - cost"
   ]
  },
  {
   "cell_type": "code",
   "execution_count": null,
   "id": "5d172d51",
   "metadata": {},
   "outputs": [],
   "source": []
  },
  {
   "cell_type": "code",
   "execution_count": null,
   "id": "4e023173",
   "metadata": {},
   "outputs": [],
   "source": []
  },
  {
   "cell_type": "code",
   "execution_count": null,
   "id": "fb6001b3",
   "metadata": {},
   "outputs": [],
   "source": []
  },
  {
   "cell_type": "code",
   "execution_count": null,
   "id": "fb9935de",
   "metadata": {},
   "outputs": [],
   "source": []
  },
  {
   "cell_type": "code",
   "execution_count": 8,
   "id": "3dcd7a72",
   "metadata": {},
   "outputs": [],
   "source": [
    "exam = pd.Series(np.random.randint(1,10,5))"
   ]
  },
  {
   "cell_type": "code",
   "execution_count": 9,
   "id": "d03832da",
   "metadata": {},
   "outputs": [
    {
     "data": {
      "text/plain": [
       "0    2\n",
       "1    1\n",
       "2    4\n",
       "3    2\n",
       "4    6\n",
       "dtype: int64"
      ]
     },
     "execution_count": 9,
     "metadata": {},
     "output_type": "execute_result"
    }
   ],
   "source": [
    "exam"
   ]
  },
  {
   "cell_type": "code",
   "execution_count": 11,
   "id": "22d55f2d",
   "metadata": {},
   "outputs": [
    {
     "data": {
      "text/plain": [
       "0    1.0\n",
       "1    4.0\n",
       "2    2.0\n",
       "3    6.0\n",
       "4    NaN\n",
       "dtype: float64"
      ]
     },
     "execution_count": 11,
     "metadata": {},
     "output_type": "execute_result"
    }
   ],
   "source": [
    "exam.shift(-1)"
   ]
  },
  {
   "cell_type": "code",
   "execution_count": null,
   "id": "27aaca6f",
   "metadata": {},
   "outputs": [],
   "source": []
  }
 ],
 "metadata": {
  "kernelspec": {
   "display_name": "Python 3 (ipykernel)",
   "language": "python",
   "name": "python3"
  },
  "language_info": {
   "codemirror_mode": {
    "name": "ipython",
    "version": 3
   },
   "file_extension": ".py",
   "mimetype": "text/x-python",
   "name": "python",
   "nbconvert_exporter": "python",
   "pygments_lexer": "ipython3",
   "version": "3.9.13"
  }
 },
 "nbformat": 4,
 "nbformat_minor": 5
}
