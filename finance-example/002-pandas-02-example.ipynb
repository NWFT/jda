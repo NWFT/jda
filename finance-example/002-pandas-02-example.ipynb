{
 "cells": [
  {
   "cell_type": "markdown",
   "id": "4fea540a",
   "metadata": {},
   "source": [
    "# MA-双曲线"
   ]
  },
  {
   "cell_type": "markdown",
   "id": "9593bbb5",
   "metadata": {},
   "source": [
    "## 5/10短线操作指标；30/60 中期；120/240长期\n",
    "## 均线技术方法：MA=(C1+C2+C3+...+Cn)/N"
   ]
  },
  {
   "cell_type": "code",
   "execution_count": 1,
   "id": "3a4c458e",
   "metadata": {},
   "outputs": [],
   "source": [
    "import numpy as np\n",
    "import pandas as pd\n",
    "import mplfinance as mpf\n",
    "import matplotlib.pyplot as plt\n",
    "import yfinance as yf\n",
    "from datetime import datetime, date"
   ]
  },
  {
   "cell_type": "code",
   "execution_count": 2,
   "id": "a1f538e4",
   "metadata": {},
   "outputs": [],
   "source": [
    "df = pd.read_hdf('./data/gfs.h5', 'df')"
   ]
  },
  {
   "cell_type": "code",
   "execution_count": 3,
   "id": "5f2d2db1",
   "metadata": {},
   "outputs": [
    {
     "data": {
      "text/html": [
       "<div>\n",
       "<style scoped>\n",
       "    .dataframe tbody tr th:only-of-type {\n",
       "        vertical-align: middle;\n",
       "    }\n",
       "\n",
       "    .dataframe tbody tr th {\n",
       "        vertical-align: top;\n",
       "    }\n",
       "\n",
       "    .dataframe thead th {\n",
       "        text-align: right;\n",
       "    }\n",
       "</style>\n",
       "<table border=\"1\" class=\"dataframe\">\n",
       "  <thead>\n",
       "    <tr style=\"text-align: right;\">\n",
       "      <th></th>\n",
       "      <th>Open</th>\n",
       "      <th>High</th>\n",
       "      <th>Low</th>\n",
       "      <th>Close</th>\n",
       "      <th>Adj Close</th>\n",
       "      <th>Volume</th>\n",
       "    </tr>\n",
       "    <tr>\n",
       "      <th>Date</th>\n",
       "      <th></th>\n",
       "      <th></th>\n",
       "      <th></th>\n",
       "      <th></th>\n",
       "      <th></th>\n",
       "      <th></th>\n",
       "    </tr>\n",
       "  </thead>\n",
       "  <tbody>\n",
       "    <tr>\n",
       "      <th>2021-10-28 00:00:00-04:00</th>\n",
       "      <td>47.009998</td>\n",
       "      <td>48.000000</td>\n",
       "      <td>44.480000</td>\n",
       "      <td>46.400002</td>\n",
       "      <td>46.400002</td>\n",
       "      <td>18618900</td>\n",
       "    </tr>\n",
       "    <tr>\n",
       "      <th>2021-10-29 00:00:00-04:00</th>\n",
       "      <td>46.000000</td>\n",
       "      <td>49.480000</td>\n",
       "      <td>45.610001</td>\n",
       "      <td>48.740002</td>\n",
       "      <td>48.740002</td>\n",
       "      <td>4639400</td>\n",
       "    </tr>\n",
       "    <tr>\n",
       "      <th>2021-11-01 00:00:00-04:00</th>\n",
       "      <td>54.270000</td>\n",
       "      <td>59.990002</td>\n",
       "      <td>53.060001</td>\n",
       "      <td>53.869999</td>\n",
       "      <td>53.869999</td>\n",
       "      <td>9946500</td>\n",
       "    </tr>\n",
       "    <tr>\n",
       "      <th>2021-11-02 00:00:00-04:00</th>\n",
       "      <td>57.507999</td>\n",
       "      <td>58.615002</td>\n",
       "      <td>55.000000</td>\n",
       "      <td>56.419998</td>\n",
       "      <td>56.419998</td>\n",
       "      <td>4122500</td>\n",
       "    </tr>\n",
       "    <tr>\n",
       "      <th>2021-11-03 00:00:00-04:00</th>\n",
       "      <td>57.000000</td>\n",
       "      <td>59.380001</td>\n",
       "      <td>56.169998</td>\n",
       "      <td>59.000000</td>\n",
       "      <td>59.000000</td>\n",
       "      <td>2642300</td>\n",
       "    </tr>\n",
       "    <tr>\n",
       "      <th>...</th>\n",
       "      <td>...</td>\n",
       "      <td>...</td>\n",
       "      <td>...</td>\n",
       "      <td>...</td>\n",
       "      <td>...</td>\n",
       "      <td>...</td>\n",
       "    </tr>\n",
       "    <tr>\n",
       "      <th>2023-03-15 00:00:00-04:00</th>\n",
       "      <td>64.959999</td>\n",
       "      <td>65.400002</td>\n",
       "      <td>62.959999</td>\n",
       "      <td>64.750000</td>\n",
       "      <td>64.750000</td>\n",
       "      <td>1678600</td>\n",
       "    </tr>\n",
       "    <tr>\n",
       "      <th>2023-03-16 00:00:00-04:00</th>\n",
       "      <td>64.540001</td>\n",
       "      <td>67.180000</td>\n",
       "      <td>64.120003</td>\n",
       "      <td>66.769997</td>\n",
       "      <td>66.769997</td>\n",
       "      <td>1200500</td>\n",
       "    </tr>\n",
       "    <tr>\n",
       "      <th>2023-03-17 00:00:00-04:00</th>\n",
       "      <td>66.629997</td>\n",
       "      <td>67.699997</td>\n",
       "      <td>65.440002</td>\n",
       "      <td>66.459999</td>\n",
       "      <td>66.459999</td>\n",
       "      <td>1993800</td>\n",
       "    </tr>\n",
       "    <tr>\n",
       "      <th>2023-03-20 00:00:00-04:00</th>\n",
       "      <td>66.500000</td>\n",
       "      <td>68.169998</td>\n",
       "      <td>65.900002</td>\n",
       "      <td>68.089996</td>\n",
       "      <td>68.089996</td>\n",
       "      <td>1322100</td>\n",
       "    </tr>\n",
       "    <tr>\n",
       "      <th>2023-03-21 00:00:00-04:00</th>\n",
       "      <td>68.900002</td>\n",
       "      <td>70.300003</td>\n",
       "      <td>67.959999</td>\n",
       "      <td>68.839996</td>\n",
       "      <td>68.839996</td>\n",
       "      <td>1045900</td>\n",
       "    </tr>\n",
       "  </tbody>\n",
       "</table>\n",
       "<p>350 rows × 6 columns</p>\n",
       "</div>"
      ],
      "text/plain": [
       "                                Open       High        Low      Close  \\\n",
       "Date                                                                    \n",
       "2021-10-28 00:00:00-04:00  47.009998  48.000000  44.480000  46.400002   \n",
       "2021-10-29 00:00:00-04:00  46.000000  49.480000  45.610001  48.740002   \n",
       "2021-11-01 00:00:00-04:00  54.270000  59.990002  53.060001  53.869999   \n",
       "2021-11-02 00:00:00-04:00  57.507999  58.615002  55.000000  56.419998   \n",
       "2021-11-03 00:00:00-04:00  57.000000  59.380001  56.169998  59.000000   \n",
       "...                              ...        ...        ...        ...   \n",
       "2023-03-15 00:00:00-04:00  64.959999  65.400002  62.959999  64.750000   \n",
       "2023-03-16 00:00:00-04:00  64.540001  67.180000  64.120003  66.769997   \n",
       "2023-03-17 00:00:00-04:00  66.629997  67.699997  65.440002  66.459999   \n",
       "2023-03-20 00:00:00-04:00  66.500000  68.169998  65.900002  68.089996   \n",
       "2023-03-21 00:00:00-04:00  68.900002  70.300003  67.959999  68.839996   \n",
       "\n",
       "                           Adj Close    Volume  \n",
       "Date                                            \n",
       "2021-10-28 00:00:00-04:00  46.400002  18618900  \n",
       "2021-10-29 00:00:00-04:00  48.740002   4639400  \n",
       "2021-11-01 00:00:00-04:00  53.869999   9946500  \n",
       "2021-11-02 00:00:00-04:00  56.419998   4122500  \n",
       "2021-11-03 00:00:00-04:00  59.000000   2642300  \n",
       "...                              ...       ...  \n",
       "2023-03-15 00:00:00-04:00  64.750000   1678600  \n",
       "2023-03-16 00:00:00-04:00  66.769997   1200500  \n",
       "2023-03-17 00:00:00-04:00  66.459999   1993800  \n",
       "2023-03-20 00:00:00-04:00  68.089996   1322100  \n",
       "2023-03-21 00:00:00-04:00  68.839996   1045900  \n",
       "\n",
       "[350 rows x 6 columns]"
      ]
     },
     "execution_count": 3,
     "metadata": {},
     "output_type": "execute_result"
    }
   ],
   "source": [
    "df"
   ]
  },
  {
   "cell_type": "markdown",
   "id": "1f828e2a",
   "metadata": {},
   "source": [
    "### MA"
   ]
  },
  {
   "cell_type": "code",
   "execution_count": 6,
   "id": "26e28c39",
   "metadata": {},
   "outputs": [],
   "source": [
    "ma5 = df['Close'].rolling(5,min_periods=1).mean()  # min_periods=1 不足5个时，最少为1个技术均值\n",
    "ma30 = df['Close'].rolling(30,min_periods=1).mean()"
   ]
  },
  {
   "cell_type": "code",
   "execution_count": 10,
   "id": "303401e1",
   "metadata": {},
   "outputs": [
    {
     "data": {
      "text/plain": [
       "[<matplotlib.lines.Line2D at 0x7ff4be3091f0>]"
      ]
     },
     "execution_count": 10,
     "metadata": {},
     "output_type": "execute_result"
    },
    {
     "data": {
      "image/png": "[encoded data removed]",
      "text/plain": [
       "<Figure size 640x480 with 1 Axes>"
      ]
     },
     "metadata": {},
     "output_type": "display_data"
    }
   ],
   "source": [
    "%matplotlib inline\n",
    "plt.plot(ma5)\n",
    "plt.plot(ma30)"
   ]
  },
  {
   "cell_type": "markdown",
   "id": "edba553c",
   "metadata": {},
   "source": [
    "### 找出交叉点。短期上穿长期为买入点，下穿为卖出点"
   ]
  },
  {
   "cell_type": "markdown",
   "id": "959ca8cc",
   "metadata": {},
   "source": [
    "#### method-1"
   ]
  },
  {
   "cell_type": "code",
   "execution_count": 13,
   "id": "f4d06819",
   "metadata": {},
   "outputs": [],
   "source": [
    "buy_filt = (ma5>ma30) & (ma5.shift(-1)<ma30.shift(-1))"
   ]
  },
  {
   "cell_type": "code",
   "execution_count": 14,
   "id": "bc3de2e6",
   "metadata": {},
   "outputs": [],
   "source": [
    "sell_filt = (ma5<ma30) & (ma5.shift(-1)>ma30.shift())"
   ]
  },
  {
   "cell_type": "code",
   "execution_count": 22,
   "id": "b9b948de",
   "metadata": {},
   "outputs": [],
   "source": [
    "buy_date = df[buy_filt].index"
   ]
  },
  {
   "cell_type": "code",
   "execution_count": 23,
   "id": "6a3577c5",
   "metadata": {},
   "outputs": [],
   "source": [
    "sell_date = df[sell_filt].index"
   ]
  },
  {
   "cell_type": "code",
   "execution_count": 40,
   "id": "b3190157",
   "metadata": {},
   "outputs": [],
   "source": [
    "s_buy = pd.Series(data=1,index=buy_date)\n",
    "s_sell = pd.Series(data=0,index=sell_date)\n"
   ]
  },
  {
   "cell_type": "code",
   "execution_count": 41,
   "id": "e499d23f",
   "metadata": {},
   "outputs": [
    {
     "name": "stderr",
     "output_type": "stream",
     "text": [
      "/var/folders/rz/6rwl1std7dz1npfq_pm66bfr0000gn/T/ipykernel_46826/3201635840.py:1: FutureWarning: The series.append method is deprecated and will be removed from pandas in a future version. Use pandas.concat instead.\n",
      "  s_bs = s_buy.append(s_sell)\n"
     ]
    },
    {
     "data": {
      "text/plain": [
       "Date\n",
       "2021-12-30 00:00:00-05:00    0\n",
       "2021-12-31 00:00:00-05:00    1\n",
       "2022-02-11 00:00:00-05:00    1\n",
       "2022-02-25 00:00:00-05:00    0\n",
       "2022-02-28 00:00:00-05:00    1\n",
       "2022-05-18 00:00:00-04:00    0\n",
       "2022-05-19 00:00:00-04:00    1\n",
       "2022-07-20 00:00:00-04:00    1\n",
       "2022-10-21 00:00:00-04:00    0\n",
       "2022-10-24 00:00:00-04:00    1\n",
       "2022-12-08 00:00:00-05:00    0\n",
       "2022-12-09 00:00:00-05:00    0\n",
       "2022-12-12 00:00:00-05:00    1\n",
       "2023-01-17 00:00:00-05:00    0\n",
       "2023-01-18 00:00:00-05:00    1\n",
       "2023-03-16 00:00:00-04:00    0\n",
       "2023-03-17 00:00:00-04:00    1\n",
       "dtype: int64"
      ]
     },
     "execution_count": 41,
     "metadata": {},
     "output_type": "execute_result"
    }
   ],
   "source": [
    "s_bs = s_buy.append(s_sell)\n",
    "s_bs = s_bs.sort_index()\n",
    "s_bs"
   ]
  },
  {
   "cell_type": "code",
   "execution_count": null,
   "id": "f689b97b",
   "metadata": {},
   "outputs": [],
   "source": []
  },
  {
   "cell_type": "code",
   "execution_count": null,
   "id": "a715fabe",
   "metadata": {},
   "outputs": [],
   "source": []
  },
  {
   "cell_type": "markdown",
   "id": "8166c48b",
   "metadata": {},
   "source": [
    "#### method-2"
   ]
  },
  {
   "cell_type": "code",
   "execution_count": 19,
   "id": "cc16b0a5",
   "metadata": {},
   "outputs": [],
   "source": [
    "c1 = ma5<ma30\n",
    "c2 = ma5>ma30"
   ]
  },
  {
   "cell_type": "code",
   "execution_count": 24,
   "id": "f963ef1c",
   "metadata": {},
   "outputs": [],
   "source": [
    "d_date = df[c1 & c2.shift(1)].index"
   ]
  },
  {
   "cell_type": "code",
   "execution_count": 25,
   "id": "2b60ac5c",
   "metadata": {},
   "outputs": [],
   "source": [
    "g_date = df[~(c1|c2.shift(1))].index"
   ]
  },
  {
   "cell_type": "code",
   "execution_count": 26,
   "id": "bb4bace3",
   "metadata": {},
   "outputs": [],
   "source": [
    "s_g = pd.Series(data=1,index=g_date) # G's value set 1\n",
    "s_d = pd.Series(data=0,index=d_date) # D's value 0"
   ]
  },
  {
   "cell_type": "code",
   "execution_count": 33,
   "id": "70833c39",
   "metadata": {},
   "outputs": [
    {
     "name": "stderr",
     "output_type": "stream",
     "text": [
      "/var/folders/rz/6rwl1std7dz1npfq_pm66bfr0000gn/T/ipykernel_46826/2191697202.py:1: FutureWarning: The series.append method is deprecated and will be removed from pandas in a future version. Use pandas.concat instead.\n",
      "  s = s_g.append(s_d)\n"
     ]
    }
   ],
   "source": [
    "s = s_g.append(s_d)\n",
    "s = s.sort_index()"
   ]
  },
  {
   "cell_type": "code",
   "execution_count": 46,
   "id": "6b8cb45e",
   "metadata": {},
   "outputs": [],
   "source": [
    "s = s['2022-01':'2022-12']"
   ]
  },
  {
   "cell_type": "code",
   "execution_count": 47,
   "id": "9165fe81",
   "metadata": {},
   "outputs": [
    {
     "data": {
      "text/plain": [
       "Date\n",
       "2022-01-06 00:00:00-05:00    0\n",
       "2022-02-11 00:00:00-05:00    1\n",
       "2022-02-17 00:00:00-05:00    0\n",
       "2022-02-28 00:00:00-05:00    1\n",
       "2022-04-05 00:00:00-04:00    0\n",
       "2022-05-19 00:00:00-04:00    1\n",
       "2022-06-10 00:00:00-04:00    0\n",
       "2022-07-20 00:00:00-04:00    1\n",
       "2022-09-14 00:00:00-04:00    0\n",
       "2022-10-24 00:00:00-04:00    1\n",
       "2022-12-08 00:00:00-05:00    0\n",
       "2022-12-12 00:00:00-05:00    1\n",
       "2022-12-19 00:00:00-05:00    0\n",
       "dtype: int64"
      ]
     },
     "execution_count": 47,
     "metadata": {},
     "output_type": "execute_result"
    }
   ],
   "source": [
    "s"
   ]
  },
  {
   "cell_type": "code",
   "execution_count": 64,
   "id": "4508d65e",
   "metadata": {},
   "outputs": [
    {
     "name": "stdout",
     "output_type": "stream",
     "text": [
      "2022-01-06 00:00:00-05:00 SELL,Close61.5099983215332 Stock0 Money100000.0\n",
      "2022-02-11 00:00:00-05:00 BUY,Open57.68000030517578 Stock1700.0 Money1943.9994812011719\n",
      "2022-02-17 00:00:00-05:00 SELL,Close48.95000076293945 Stock0 Money85159.00077819824\n",
      "2022-02-28 00:00:00-05:00 BUY,Open55.779998779296875 Stock1500.0 Money1489.0026092529297\n",
      "2022-04-05 00:00:00-04:00 SELL,Close58.400001525878906 Stock0 Money89089.00489807129\n",
      "2022-05-19 00:00:00-04:00 BUY,Open53.0 Stock1600.0 Money4289.004898071289\n",
      "2022-06-10 00:00:00-04:00 SELL,Close51.75 Stock0 Money87089.00489807129\n",
      "2022-07-20 00:00:00-04:00 BUY,Open46.59000015258789 Stock1800.0 Money3227.004623413086\n",
      "2022-09-14 00:00:00-04:00 SELL,Close58.31999969482422 Stock0 Money108203.00407409668\n",
      "2022-10-24 00:00:00-04:00 BUY,Open55.25 Stock1900.0 Money3228.0040740966797\n",
      "2022-12-08 00:00:00-05:00 SELL,Close62.41999816894531 Stock0 Money121826.00059509277\n",
      "2022-12-12 00:00:00-05:00 BUY,Open64.05999755859375 Stock1900.0 Money112.00523376464844\n",
      "2022-12-19 00:00:00-05:00 SELL,Close58.06999969482422 Stock0 Money110445.00465393066\n",
      "Final: 110445.00465393066 Income10445.004653930664, 10.445004653930665\n"
     ]
    }
   ],
   "source": [
    "# 使用买卖点，回测2022年GFS的收益情况\n",
    "init = 100000  # 初始资金 \n",
    "money = init   # 资金变动，买卖操作\n",
    "stock = 0  # 初始股票数量\n",
    "\n",
    "for i in range(len(s)):\n",
    "    # 0-sell; 1-buy\n",
    "    if s[i] == 1: # buy\n",
    "        # 基于money，尽可能买入全部股票\n",
    "        # 获取股票的单价（买点时间对应的开盘价）\n",
    "        datetime = s.index[i]\n",
    "        p = df.loc[datetime]['Open']\n",
    "        stock = (money // (p*100)) * 100\n",
    "        \n",
    "        money -= stock * p # 买股票后，剩余\n",
    "        print(f\"{datetime} BUY,Open{p} Stock{stock} Money{money}\")\n",
    "    else: # sell all stock\n",
    "        # 找卖出当日 收盘价\n",
    "        datetime = s.index[i]\n",
    "        p = df.loc[datetime]['Close']\n",
    "        \n",
    "        money += p * stock  # 卖出股票收入\n",
    "        stock = 0\n",
    "        print(f\"{datetime} SELL,Close{p} Stock{stock} Money{money}\")\n",
    "\n",
    "# 最后一天未卖出股票，以当前收盘价计算\n",
    "remain_money = stock * df['Close'][-1] \n",
    "\n",
    "# 最后总资金\n",
    "money += remain_money\n",
    "\n",
    "print(f\"Final: {money} Income{money-init}, {(money-init)/init*100}\")"
   ]
  },
  {
   "cell_type": "code",
   "execution_count": null,
   "id": "0629a04e",
   "metadata": {},
   "outputs": [],
   "source": []
  },
  {
   "cell_type": "code",
   "execution_count": null,
   "id": "d0a74cc7",
   "metadata": {},
   "outputs": [],
   "source": []
  }
 ],
 "metadata": {
  "kernelspec": {
   "display_name": "Python 3 (ipykernel)",
   "language": "python",
   "name": "python3"
  },
  "language_info": {
   "codemirror_mode": {
    "name": "ipython",
    "version": 3
   },
   "file_extension": ".py",
   "mimetype": "text/x-python",
   "name": "python",
   "nbconvert_exporter": "python",
   "pygments_lexer": "ipython3",
   "version": "3.9.13"
  }
 },
 "nbformat": 4,
 "nbformat_minor": 5
}
